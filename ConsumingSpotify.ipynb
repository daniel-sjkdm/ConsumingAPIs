{
  "nbformat": 4,
  "nbformat_minor": 0,
  "metadata": {
    "colab": {
      "name": "ConsumingSpotify.ipynb",
      "provenance": [],
      "collapsed_sections": [],
      "mount_file_id": "1ccxfHnRH-sfoNqA7CIy2IvmiPDc7JwxG",
      "authorship_tag": "ABX9TyP0uLZJPfAt0pViuDYzhZ++",
      "include_colab_link": true
    },
    "kernelspec": {
      "name": "python3",
      "display_name": "Python 3"
    }
  },
  "cells": [
    {
      "cell_type": "markdown",
      "metadata": {
        "id": "view-in-github",
        "colab_type": "text"
      },
      "source": [
        "<a href=\"https://colab.research.google.com/github/daniel-sjkdm/ConsumingAPIs/blob/master/ConsumingSpotify.ipynb\" target=\"_parent\"><img src=\"https://colab.research.google.com/assets/colab-badge.svg\" alt=\"Open In Colab\"/></a>"
      ]
    },
    {
      "cell_type": "markdown",
      "metadata": {
        "id": "lSyrkYPNm4bO",
        "colab_type": "text"
      },
      "source": [
        "# Spotify API\n",
        "\n",
        "To connect to the Spotify API you should create an app in the dashboard section of the developer's page:\n",
        "\n",
        "https://developer.spotify.com/dashboard/applications\n",
        "\n",
        "When the app is created a client id and client secret are generated that we need to use to authenticate and make http request to the API.\n",
        "\n",
        "Steps:\n",
        "\n",
        "1. Store the credentials in a file that you only have access (like a .env file)\n",
        "2. Generate an OAuth token that matchs your needs (see permissions at [1])\n",
        "3. Make https requests and send the auth token as an authorization header"
      ]
    },
    {
      "cell_type": "code",
      "metadata": {
        "id": "VruklhjnNKCe",
        "colab_type": "code",
        "colab": {}
      },
      "source": [
        "!pip install python-dotenv -q"
      ],
      "execution_count": 113,
      "outputs": []
    },
    {
      "cell_type": "code",
      "metadata": {
        "id": "A0LCDNEALOe9",
        "colab_type": "code",
        "colab": {}
      },
      "source": [
        "import os\n",
        "import base64\n",
        "import pandas as pd\n",
        "import requests \n",
        "from pprint import pprint\n",
        "from dotenv import load_dotenv\n",
        "from google.colab import drive"
      ],
      "execution_count": 130,
      "outputs": []
    },
    {
      "cell_type": "code",
      "metadata": {
        "id": "VF89xGiJMcKJ",
        "colab_type": "code",
        "colab": {
          "base_uri": "https://localhost:8080/",
          "height": 34
        },
        "outputId": "cb28ffd7-82d1-4217-b450-ddc68a18bfed"
      },
      "source": [
        "drive.mount(\"/content/drive\")"
      ],
      "execution_count": 19,
      "outputs": [
        {
          "output_type": "stream",
          "text": [
            "Drive already mounted at /content/drive; to attempt to forcibly remount, call drive.mount(\"/content/drive\", force_remount=True).\n"
          ],
          "name": "stdout"
        }
      ]
    },
    {
      "cell_type": "markdown",
      "metadata": {
        "id": "dHHtkv5qo0rz",
        "colab_type": "text"
      },
      "source": [
        "## Client Credentials\n",
        "\n",
        "I'll store the credentias at my Google Drive filesystem inside a .env file.\n",
        "\n",
        "Before generating the auth token to make http calls, the client credentials must be encoded in base64 as \"client_id:client_secret\". Make sure to fist encode them as UTF-8 format."
      ]
    },
    {
      "cell_type": "code",
      "metadata": {
        "id": "O9oK3EA_L874",
        "colab_type": "code",
        "colab": {}
      },
      "source": [
        "load_dotenv(dotenv_path=\"/content/drive/My Drive/Colab Notebooks/ConsumingAPIs/ConsumingSpotify/.env\")\n",
        "\n",
        "CLIENTID=os.getenv(\"CLIENTID\")\n",
        "CLIENTSECRET=os.getenv(\"CLIENTSECRET\")"
      ],
      "execution_count": 28,
      "outputs": []
    },
    {
      "cell_type": "code",
      "metadata": {
        "id": "1fv0SID1rSrA",
        "colab_type": "code",
        "colab": {}
      },
      "source": [
        "def encodebase64(data):\n",
        "  return base64.b64encode(data)\n",
        "\n",
        "def decodebase64(data):\n",
        "  return base64.b64decode(data)"
      ],
      "execution_count": 26,
      "outputs": []
    },
    {
      "cell_type": "code",
      "metadata": {
        "id": "qWO1hbFUrWwX",
        "colab_type": "code",
        "colab": {}
      },
      "source": [
        "B64CLIENT = encodebase64((CLIENTID + \":\" + CLIENTSECRET).encode(\"UTF-8\"))"
      ],
      "execution_count": 33,
      "outputs": []
    },
    {
      "cell_type": "markdown",
      "metadata": {
        "id": "uTpZgroGr_fD",
        "colab_type": "text"
      },
      "source": [
        "## Generating the OAuth token\n",
        "\n",
        "The OAuth token is generated via a post request using basic authentication, sending the base64 encoded version of the client credentials generated in the spotify developer's dashboard.\n",
        "\n",
        "There are many auth methods and scopes available at [1], for this notebook I'll use the \"Authorization Code\" flow and the \"user-read-email\" to verify it's working as expected.\n",
        "\n",
        "[1] [Spotify Auth Guide](https://developer.spotify.com/documentation/general/guides/authorization-guide/)"
      ]
    },
    {
      "cell_type": "code",
      "metadata": {
        "id": "FxYmdRcRt5XW",
        "colab_type": "code",
        "colab": {}
      },
      "source": [
        "# The token has an expiration date of 3600 seconds, to avoid\n",
        "# refreshing it in this notebook, it's generated a new one \n",
        "# each time a request is performed\n",
        "\n",
        "def generate_auth_token(b64client):\n",
        "  url = \"https://accounts.spotify.com/api/token\"\n",
        "  headers = {\n",
        "      \"Authorization\": f\"Basic {b64client.decode()}\"\n",
        "  }\n",
        "  payload = {\n",
        "      \"grant_type\": \"client_credentials\",\n",
        "      \"scopes\": \"user-read-email\"\n",
        "  }\n",
        "  response = requests.post(url, data=payload, headers=headers)\n",
        "  return response.json()"
      ],
      "execution_count": 91,
      "outputs": []
    },
    {
      "cell_type": "code",
      "metadata": {
        "id": "V_PMqoqNu82N",
        "colab_type": "code",
        "colab": {
          "base_uri": "https://localhost:8080/",
          "height": 69
        },
        "outputId": "eade7ded-2b89-4347-b6e7-09e6580d24f4"
      },
      "source": [
        "token = generate_auth_token(B64CLIENT)\n",
        "print(\"Expires in: \", token[\"expires_in\"])\n",
        "print(\"Scopes: \", token[\"scope\"])\n",
        "print(\"Type: \", token[\"token_type\"])"
      ],
      "execution_count": 149,
      "outputs": [
        {
          "output_type": "stream",
          "text": [
            "Expires in:  3600\n",
            "Scopes:  user-read-email\n",
            "Type:  Bearer\n"
          ],
          "name": "stdout"
        }
      ]
    },
    {
      "cell_type": "markdown",
      "metadata": {
        "id": "RSBDVcxnvyR7",
        "colab_type": "text"
      },
      "source": [
        "## Making HTTP requests\n",
        "\n",
        "There are many endpoints available to make calls to, some of them are:\n",
        "\n",
        "+ albums (Base URL: https://api.spotify.com/v1)\n",
        "  + /albums/{id}\n",
        "  + /albums/{id}/tracks\n",
        "  + /albums\n",
        "\n",
        "+ artists\n",
        "  + /artists\n",
        "  + /artists/{id}\n",
        "  + ...\n",
        "\n",
        "\n",
        "The response is in json format and must be parsed in a different way for each kind of search.\n",
        "\n",
        "[Full list endpoints](https://developer.spotify.com/documentation/web-api/reference/)"
      ]
    },
    {
      "cell_type": "code",
      "metadata": {
        "id": "-GUXN2unzg0t",
        "colab_type": "code",
        "colab": {}
      },
      "source": [
        "base_url = \"https://api.spotify.com/v1\"\n",
        "\n",
        "def generate_auth_headers():\n",
        "  return {\n",
        "    \"Authorization\": f\"Bearer {generate_auth_token(B64CLIENT)['access_token']}\",\n",
        "    \"Content-Type\": \"application/json\",\n",
        "    \"Accept\": \"application/json\"\n",
        "  }"
      ],
      "execution_count": 268,
      "outputs": []
    },
    {
      "cell_type": "code",
      "metadata": {
        "id": "MdPDv5_nzRMy",
        "colab_type": "code",
        "colab": {}
      },
      "source": [
        "# Search method to look for albums, artists, playlists, shows and episodes\n",
        "def search(query, search_type=\"track\", limit=20):\n",
        "  allowed_types = [\"album\", \"artist\", \"playlist\", \"track\", \"show\", \"episode\"]\n",
        "  if search_type not in allowed_types:\n",
        "    raise Exception(\"Invalid search type\")\n",
        "  if limit < 1 or limit > 50:\n",
        "    raise Exception(\"Invalid limit value 1 <= limit <= 50\")\n",
        "  url = base_url + \"/search\"\n",
        "  response = requests.get(\n",
        "      url,\n",
        "      headers = generate_auth_headers(),\n",
        "      params = {\n",
        "          \"q\": query,\n",
        "          \"type\": search_type,\n",
        "          \"limit\": limit\n",
        "      }\n",
        "  )\n",
        "  return response.json()"
      ],
      "execution_count": 269,
      "outputs": []
    },
    {
      "cell_type": "code",
      "metadata": {
        "id": "4mV6Xz-N5ZOa",
        "colab_type": "code",
        "colab": {}
      },
      "source": [
        "# Print tracks function (parse the response for tracks)\n",
        "\n",
        "def print_tracks(tracks):\n",
        "  for index, track in enumerate(tracks[\"tracks\"][\"items\"]):\n",
        "    track_id = track[\"id\"]\n",
        "    track_name = track[\"name\"]\n",
        "    track_duration = track[\"duration_ms\"] * 0.001\n",
        "    track_popularity = track[\"popularity\"]\n",
        "    track_number = track[\"track_number\"]\n",
        "\n",
        "    album_id = track[\"album\"][\"id\"]\n",
        "    album_name = track[\"album\"][\"name\"]\n",
        "    album_artists = [ (artist[\"id\"], artist[\"name\"]) for artist in track[\"album\"][\"artists\"] ]\n",
        "\n",
        "    print(\"\\nTrack\")\n",
        "    print(\"Track id: \", track_id)\n",
        "    print(\"Track name: \", track_name)\n",
        "    print(\"Track duration: \", track_duration)\n",
        "    print(\"Track popularity: \", track_popularity)\n",
        "    print(\"\\nAlbum\")\n",
        "    print(\"Album id: \", album_id)\n",
        "    print(\"Album name: \", album_name)\n",
        "    print(\"Album artists:\")\n",
        "    for i, artist in enumerate(album_artists):\n",
        "      print(\"\\n\\tArtist \", i)\n",
        "      print(\"\\tId:\", artist[0])\n",
        "      print(\"\\tName:\", artist[1])\n",
        "    print(\"-------------------------------\")"
      ],
      "execution_count": 270,
      "outputs": []
    },
    {
      "cell_type": "code",
      "metadata": {
        "id": "4LsBGie5KKpl",
        "colab_type": "code",
        "colab": {
          "base_uri": "https://localhost:8080/",
          "height": 295
        },
        "outputId": "65840471-11f0-469b-a4ef-f60115dca38c"
      },
      "source": [
        "items = search(\"Vivir para contarlo/ Haciendo Lo Nuestro\", search_type=\"track\", limit=1)\n",
        "\n",
        "print_tracks(items)"
      ],
      "execution_count": 272,
      "outputs": [
        {
          "output_type": "stream",
          "text": [
            "\n",
            "Track\n",
            "Track id:  6RWB3HBIIggX3eo5BrDZeC\n",
            "Track name:  Vivir para Contarlo\n",
            "Track duration:  346.913\n",
            "Track popularity:  52\n",
            "\n",
            "Album\n",
            "Album id:  3MMyvg2MoM23KIuGCjo28u\n",
            "Album name:  Vivir para Contarlo/ Haciendo Lo Nuestro\n",
            "Album artists:\n",
            "\n",
            "\tArtist  0\n",
            "\tId: 1DH9RJ0xBVje6gQmK3LWUY\n",
            "\tName: Violadores Del Verso\n",
            "-------------------------------\n"
          ],
          "name": "stdout"
        }
      ]
    },
    {
      "cell_type": "code",
      "metadata": {
        "id": "Te0fSxl17gWB",
        "colab_type": "code",
        "colab": {}
      },
      "source": [
        "# Function to print albums\n",
        "def print_albums(albums):\n",
        "  for index, album in enumerate(albums[\"albums\"][\"items\"]):\n",
        "\n",
        "    album_id = album[\"id\"]\n",
        "    album_name = album[\"name\"]\n",
        "    album_release_date = album[\"release_date\"]\n",
        "    album_tracks = album[\"total_tracks\"]\n",
        "    album_artists = [ (artist[\"id\"], artist[\"name\"]) for artist in album[\"artists\"] ]\n",
        "\n",
        "    print(\"\\nAlbum \", index)\n",
        "    print(\"Id: \", album_id)\n",
        "    print(\"Name: \", album_name)\n",
        "    print(\"Tracks: \", album_tracks)\n",
        "    print(\"Artists:\")\n",
        "    for i, artist in enumerate(album_artists):\n",
        "      print(\"\\n\\tArtist \", i)\n",
        "      print(\"\\tId:\", artist[0])\n",
        "      print(\"\\tName:\", artist[1])\n",
        "    print(\"-------------------------------\")"
      ],
      "execution_count": 167,
      "outputs": []
    },
    {
      "cell_type": "code",
      "metadata": {
        "id": "bVp0iojqL5qd",
        "colab_type": "code",
        "colab": {
          "base_uri": "https://localhost:8080/",
          "height": 1000
        },
        "outputId": "cab80671-7954-4629-adba-d854ccbf9db5"
      },
      "source": [
        "albums = search(\"Iron Maiden\", search_type=\"album\", limit=3)\n",
        "pprint(albums)\n",
        "print_albums(albums)"
      ],
      "execution_count": 285,
      "outputs": [
        {
          "output_type": "stream",
          "text": [
            "{'albums': {'href': 'https://api.spotify.com/v1/search?query=Iron+Maiden&type=album&offset=0&limit=3',\n",
            "            'items': [{'album_type': 'album',\n",
            "                       'artists': [{'external_urls': {'spotify': 'https://open.spotify.com/artist/6mdiAmATAx73kdxrNrnlao'},\n",
            "                                    'href': 'https://api.spotify.com/v1/artists/6mdiAmATAx73kdxrNrnlao',\n",
            "                                    'id': '6mdiAmATAx73kdxrNrnlao',\n",
            "                                    'name': 'Iron Maiden',\n",
            "                                    'type': 'artist',\n",
            "                                    'uri': 'spotify:artist:6mdiAmATAx73kdxrNrnlao'}],\n",
            "                       'available_markets': ['US'],\n",
            "                       'external_urls': {'spotify': 'https://open.spotify.com/album/5nyyw7ThJdClJ0jPisOta3'},\n",
            "                       'href': 'https://api.spotify.com/v1/albums/5nyyw7ThJdClJ0jPisOta3',\n",
            "                       'id': '5nyyw7ThJdClJ0jPisOta3',\n",
            "                       'images': [{'height': 640,\n",
            "                                   'url': 'https://i.scdn.co/image/ab67616d0000b2730f3012931378981b060e4c41',\n",
            "                                   'width': 640},\n",
            "                                  {'height': 300,\n",
            "                                   'url': 'https://i.scdn.co/image/ab67616d00001e020f3012931378981b060e4c41',\n",
            "                                   'width': 300},\n",
            "                                  {'height': 64,\n",
            "                                   'url': 'https://i.scdn.co/image/ab67616d000048510f3012931378981b060e4c41',\n",
            "                                   'width': 64}],\n",
            "                       'name': 'Iron Maiden (2015 - Remaster)',\n",
            "                       'release_date': '1980-04-14',\n",
            "                       'release_date_precision': 'day',\n",
            "                       'total_tracks': 8,\n",
            "                       'type': 'album',\n",
            "                       'uri': 'spotify:album:5nyyw7ThJdClJ0jPisOta3'},\n",
            "                      {'album_type': 'album',\n",
            "                       'artists': [{'external_urls': {'spotify': 'https://open.spotify.com/artist/6mdiAmATAx73kdxrNrnlao'},\n",
            "                                    'href': 'https://api.spotify.com/v1/artists/6mdiAmATAx73kdxrNrnlao',\n",
            "                                    'id': '6mdiAmATAx73kdxrNrnlao',\n",
            "                                    'name': 'Iron Maiden',\n",
            "                                    'type': 'artist',\n",
            "                                    'uri': 'spotify:artist:6mdiAmATAx73kdxrNrnlao'}],\n",
            "                       'available_markets': ['US'],\n",
            "                       'external_urls': {'spotify': 'https://open.spotify.com/album/33d72N71hl9bXwT4zAcqUy'},\n",
            "                       'href': 'https://api.spotify.com/v1/albums/33d72N71hl9bXwT4zAcqUy',\n",
            "                       'id': '33d72N71hl9bXwT4zAcqUy',\n",
            "                       'images': [{'height': 640,\n",
            "                                   'url': 'https://i.scdn.co/image/ab67616d0000b273312f2e71ea2ffd2d6bae1c90',\n",
            "                                   'width': 640},\n",
            "                                  {'height': 300,\n",
            "                                   'url': 'https://i.scdn.co/image/ab67616d00001e02312f2e71ea2ffd2d6bae1c90',\n",
            "                                   'width': 300},\n",
            "                                  {'height': 64,\n",
            "                                   'url': 'https://i.scdn.co/image/ab67616d00004851312f2e71ea2ffd2d6bae1c90',\n",
            "                                   'width': 64}],\n",
            "                       'name': 'The Number of the Beast (2015 - Remaster)',\n",
            "                       'release_date': '1982-03-22',\n",
            "                       'release_date_precision': 'day',\n",
            "                       'total_tracks': 8,\n",
            "                       'type': 'album',\n",
            "                       'uri': 'spotify:album:33d72N71hl9bXwT4zAcqUy'},\n",
            "                      {'album_type': 'album',\n",
            "                       'artists': [{'external_urls': {'spotify': 'https://open.spotify.com/artist/6mdiAmATAx73kdxrNrnlao'},\n",
            "                                    'href': 'https://api.spotify.com/v1/artists/6mdiAmATAx73kdxrNrnlao',\n",
            "                                    'id': '6mdiAmATAx73kdxrNrnlao',\n",
            "                                    'name': 'Iron Maiden',\n",
            "                                    'type': 'artist',\n",
            "                                    'uri': 'spotify:artist:6mdiAmATAx73kdxrNrnlao'}],\n",
            "                       'available_markets': ['US'],\n",
            "                       'external_urls': {'spotify': 'https://open.spotify.com/album/6iVSpex7UohpwPOYZEYmvm'},\n",
            "                       'href': 'https://api.spotify.com/v1/albums/6iVSpex7UohpwPOYZEYmvm',\n",
            "                       'id': '6iVSpex7UohpwPOYZEYmvm',\n",
            "                       'images': [{'height': 640,\n",
            "                                   'url': 'https://i.scdn.co/image/ab67616d0000b273291b0e8f1a74c2bc9f9d3110',\n",
            "                                   'width': 640},\n",
            "                                  {'height': 300,\n",
            "                                   'url': 'https://i.scdn.co/image/ab67616d00001e02291b0e8f1a74c2bc9f9d3110',\n",
            "                                   'width': 300},\n",
            "                                  {'height': 64,\n",
            "                                   'url': 'https://i.scdn.co/image/ab67616d00004851291b0e8f1a74c2bc9f9d3110',\n",
            "                                   'width': 64}],\n",
            "                       'name': 'Piece of Mind (2015 - Remaster)',\n",
            "                       'release_date': '1983-05-16',\n",
            "                       'release_date_precision': 'day',\n",
            "                       'total_tracks': 9,\n",
            "                       'type': 'album',\n",
            "                       'uri': 'spotify:album:6iVSpex7UohpwPOYZEYmvm'}],\n",
            "            'limit': 3,\n",
            "            'next': 'https://api.spotify.com/v1/search?query=Iron+Maiden&type=album&offset=3&limit=3',\n",
            "            'offset': 0,\n",
            "            'previous': None,\n",
            "            'total': 143}}\n",
            "\n",
            "Album  0\n",
            "Id:  5nyyw7ThJdClJ0jPisOta3\n",
            "Name:  Iron Maiden (2015 - Remaster)\n",
            "Tracks:  8\n",
            "Artists:\n",
            "\n",
            "\tArtist  0\n",
            "\tId: 6mdiAmATAx73kdxrNrnlao\n",
            "\tName: Iron Maiden\n",
            "-------------------------------\n",
            "\n",
            "Album  1\n",
            "Id:  33d72N71hl9bXwT4zAcqUy\n",
            "Name:  The Number of the Beast (2015 - Remaster)\n",
            "Tracks:  8\n",
            "Artists:\n",
            "\n",
            "\tArtist  0\n",
            "\tId: 6mdiAmATAx73kdxrNrnlao\n",
            "\tName: Iron Maiden\n",
            "-------------------------------\n",
            "\n",
            "Album  2\n",
            "Id:  6iVSpex7UohpwPOYZEYmvm\n",
            "Name:  Piece of Mind (2015 - Remaster)\n",
            "Tracks:  9\n",
            "Artists:\n",
            "\n",
            "\tArtist  0\n",
            "\tId: 6mdiAmATAx73kdxrNrnlao\n",
            "\tName: Iron Maiden\n",
            "-------------------------------\n"
          ],
          "name": "stdout"
        }
      ]
    },
    {
      "cell_type": "code",
      "metadata": {
        "id": "X5zGcf-sMy45",
        "colab_type": "code",
        "colab": {}
      },
      "source": [
        "# Function to print artists\n",
        "def print_artists(artists):\n",
        "  for index, artist in enumerate(artists[\"artists\"][\"items\"]):\n",
        "    artist_id = artist[\"id\"]\n",
        "    artist_followers = artist[\"followers\"][\"total\"]\n",
        "    artist_name = artist[\"name\"]\n",
        "    artist_popularity = artist[\"popularity\"]\n",
        "    artists_genres = artist[\"genres\"]\n",
        "\n",
        "    print(f\"\\nArtist {index}\")\n",
        "    print(\"Id: \", artist_id)\n",
        "    print(\"Name: \", artist_name)\n",
        "    print(\"Followers: \", artist_followers)\n",
        "    print(\"Popularity: \", artist_popularity)\n",
        "    print(\"Genres: \", artists_genres)"
      ],
      "execution_count": 274,
      "outputs": []
    },
    {
      "cell_type": "code",
      "metadata": {
        "id": "mHJWSCwLM2eR",
        "colab_type": "code",
        "colab": {
          "base_uri": "https://localhost:8080/",
          "height": 260
        },
        "outputId": "2a83e578-79e2-4fc7-de63-5c9d3907c0b5"
      },
      "source": [
        "artists = search(\"Black Sabbath\", search_type=\"artist\", limit=2)\n",
        "\n",
        "print_artists(artists)"
      ],
      "execution_count": 275,
      "outputs": [
        {
          "output_type": "stream",
          "text": [
            "\n",
            "Artist 0\n",
            "Id:  5M52tdBnJaKSvOpJGz8mfZ\n",
            "Name:  Black Sabbath\n",
            "Followers:  4761569\n",
            "Popularity:  76\n",
            "Genres:  ['album rock', 'birmingham metal', 'classic rock', 'hard rock', 'metal', 'rock', 'stoner rock', 'uk doom metal']\n",
            "\n",
            "Artist 1\n",
            "Id:  3pwXydggoKOQQaavtatHIY\n",
            "Name:  Black Sabbath Riot\n",
            "Followers:  144\n",
            "Popularity:  0\n",
            "Genres:  []\n"
          ],
          "name": "stdout"
        }
      ]
    },
    {
      "cell_type": "code",
      "metadata": {
        "id": "wjzGZmmYS1RM",
        "colab_type": "code",
        "colab": {
          "base_uri": "https://localhost:8080/",
          "height": 278
        },
        "outputId": "55b649ae-8240-45fe-cf7f-f015055a28cf"
      },
      "source": [
        "# Get an artists by its id\n",
        "\n",
        "def get_artist(artist_id):\n",
        "  url = base_url + \"/artists\" + \"/\" + artist_id\n",
        "  artist = requests.get(\n",
        "      url, \n",
        "      headers = generate_auth_headers(),\n",
        "  )\n",
        "  print(artist.url)\n",
        "  return artists\n",
        "\n",
        "\n",
        "artist = get_artist(\"5M52tdBnJaKSvOpJGz8mfZ\")\n",
        "\n",
        "print_artists(artist)"
      ],
      "execution_count": 283,
      "outputs": [
        {
          "output_type": "stream",
          "text": [
            "https://api.spotify.com/v1/artists/5M52tdBnJaKSvOpJGz8mfZ\n",
            "\n",
            "Artist 0\n",
            "Id:  5M52tdBnJaKSvOpJGz8mfZ\n",
            "Name:  Black Sabbath\n",
            "Followers:  4761569\n",
            "Popularity:  76\n",
            "Genres:  ['album rock', 'birmingham metal', 'classic rock', 'hard rock', 'metal', 'rock', 'stoner rock', 'uk doom metal']\n",
            "\n",
            "Artist 1\n",
            "Id:  3pwXydggoKOQQaavtatHIY\n",
            "Name:  Black Sabbath Riot\n",
            "Followers:  144\n",
            "Popularity:  0\n",
            "Genres:  []\n"
          ],
          "name": "stdout"
        }
      ]
    },
    {
      "cell_type": "code",
      "metadata": {
        "id": "TH0-G3Z7SzVu",
        "colab_type": "code",
        "colab": {
          "base_uri": "https://localhost:8080/",
          "height": 260
        },
        "outputId": "bdd96dc4-6249-41db-9687-bdc1476d712e"
      },
      "source": [
        "# Get an album by its id\n",
        "\n",
        "def get_album(album_id):\n",
        "  url = base_url + \"/albums\" + \"/\" + album_id\n",
        "  album = requests.get(\n",
        "      url, \n",
        "      headers = generate_auth_headers(),\n",
        "  )\n",
        "  return album.json()\n",
        "\n",
        "album = get_album(\"5nyyw7ThJdClJ0jPisOta3\")\n",
        "\n",
        "\n",
        "title = album[\"name\"]\n",
        "genres = album[\"genres\"]\n",
        "popularity = album[\"popularity\"]\n",
        "release_date = album[\"release_date\"]\n",
        "total_tracks = album[\"total_tracks\"]\n",
        "artists = [ artist[\"name\"] for artist in album[\"artists\"] ]\n",
        "\n",
        "\n",
        "print(\"Title: \", title)\n",
        "print(\"Genres: \", genres)\n",
        "print(\"Popularity: \", popularity)\n",
        "print(\"Release date: \", release_date)\n",
        "print(\"Total tracks: \", total_tracks)\n",
        "print(\"Tracks:\")\n",
        "for track in album[\"tracks\"][\"items\"]:\n",
        "  print(\"Tile: \", track[\"name\"])"
      ],
      "execution_count": 296,
      "outputs": [
        {
          "output_type": "stream",
          "text": [
            "Title:  Iron Maiden (2015 - Remaster)\n",
            "Genres:  []\n",
            "Popularity:  49\n",
            "Release date:  1980-04-14\n",
            "Total tracks:  8\n",
            "Tracks:\n",
            "Tile:  Prowler - 2015 Remaster\n",
            "Tile:  Remember Tomorrow - 2015 Remaster\n",
            "Tile:  Running Free - 2015 Remaster\n",
            "Tile:  Phantom of the Opera - 2015 Remaster\n",
            "Tile:  Transylvania - 2015 Remaster\n",
            "Tile:  Strange World - 2015 Remaster\n",
            "Tile:  Charlotte the Harlot - 2015 Remaster\n",
            "Tile:  Iron Maiden - 2015 Remaster\n"
          ],
          "name": "stdout"
        }
      ]
    }
  ]
}