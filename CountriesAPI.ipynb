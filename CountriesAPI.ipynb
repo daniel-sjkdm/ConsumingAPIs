{
  "nbformat": 4,
  "nbformat_minor": 0,
  "metadata": {
    "colab": {
      "name": "CountriesAPI.ipynb",
      "provenance": [],
      "collapsed_sections": [],
      "authorship_tag": "ABX9TyM2MKJvYoFosQ3h+ibZ5jZb",
      "include_colab_link": true
    },
    "kernelspec": {
      "name": "python3",
      "display_name": "Python 3"
    }
  },
  "cells": [
    {
      "cell_type": "markdown",
      "metadata": {
        "id": "view-in-github",
        "colab_type": "text"
      },
      "source": [
        "<a href=\"https://colab.research.google.com/github/daniel-sjkdm/ConsumingAPIs/blob/master/CountriesAPI.ipynb\" target=\"_parent\"><img src=\"https://colab.research.google.com/assets/colab-badge.svg\" alt=\"Open In Colab\"/></a>"
      ]
    },
    {
      "cell_type": "markdown",
      "metadata": {
        "id": "qwJLFhNt6jBr"
      },
      "source": [
        "# Countries API\n",
        "\n",
        "The following notebook is an analysis of the countries API using:\n",
        "\n",
        "+ pandas\n",
        "+ searborn\n",
        "+ matplotlib\n",
        "+ requests\n",
        "\n",
        "This is for practicing the data analysis skills! And also how it relates to get\n",
        "data from different sources. Here the source of data is a free REST API that doesn't need authentication in order to be used.\n",
        "\n",
        "## Source\n",
        "\n",
        " [Countries API](https://restcountries.eu/)"
      ]
    },
    {
      "cell_type": "code",
      "metadata": {
        "id": "75LnWY8_63l1"
      },
      "source": [
        "import pandas as pd\n",
        "import requests \n",
        "import matplotlib\n",
        "from matplotlib import pyplot as plt\n",
        "import seaborn as sns\n",
        "import numpy as np\n",
        "import json\n",
        "from pprint import pprint"
      ],
      "execution_count": null,
      "outputs": []
    },
    {
      "cell_type": "code",
      "metadata": {
        "id": "SXl0C5diDljl"
      },
      "source": [
        "sns.set_theme()\n",
        "matplotlib.rc('figure', figsize=(10, 5))"
      ],
      "execution_count": null,
      "outputs": []
    },
    {
      "cell_type": "code",
      "metadata": {
        "id": "ECJhfvUc6_jw"
      },
      "source": [
        "base_url = \"https://restcountries.eu/rest/v2\""
      ],
      "execution_count": null,
      "outputs": []
    },
    {
      "cell_type": "code",
      "metadata": {
        "id": "a7zfpOMx7V0s"
      },
      "source": [
        "# Get all available information of the countries\n",
        "r = requests.get(f\"{base_url}/all\")\n",
        "\n",
        "if r.ok:\n",
        "    data = r.json()\n",
        "else:\n",
        "    raise Exception(\"There was an error in the API server\")"
      ],
      "execution_count": null,
      "outputs": []
    },
    {
      "cell_type": "code",
      "metadata": {
        "id": "3FHYJQUV7ZHV",
        "outputId": "bf85e6b5-6718-4c0c-83c7-7f3b90c2ea1e",
        "colab": {
          "base_uri": "https://localhost:8080/"
        }
      },
      "source": [
        "# Which are the fields of the json object?\n",
        "columns = list(data[0].keys())\n",
        "pprint(columns)"
      ],
      "execution_count": null,
      "outputs": [
        {
          "output_type": "stream",
          "text": [
            "['name',\n",
            " 'topLevelDomain',\n",
            " 'alpha2Code',\n",
            " 'alpha3Code',\n",
            " 'callingCodes',\n",
            " 'capital',\n",
            " 'altSpellings',\n",
            " 'region',\n",
            " 'subregion',\n",
            " 'population',\n",
            " 'latlng',\n",
            " 'demonym',\n",
            " 'area',\n",
            " 'gini',\n",
            " 'timezones',\n",
            " 'borders',\n",
            " 'nativeName',\n",
            " 'numericCode',\n",
            " 'currencies',\n",
            " 'languages',\n",
            " 'translations',\n",
            " 'flag',\n",
            " 'regionalBlocs',\n",
            " 'cioc']\n"
          ],
          "name": "stdout"
        }
      ]
    },
    {
      "cell_type": "code",
      "metadata": {
        "id": "vE0QTBKx7bPd"
      },
      "source": [
        "# Since I'm only interested in a subset of columns, I'll filter the ones\n",
        "# I don't want to appear \n",
        "columns_i_dont_want = [\"alpha2Code\", \"alpha3Code\", \"callingCodes\", \"altSpellings\",\n",
        "                       \"timezones\", \"borders\", \"nativeName\", \"numericCode\",\n",
        "                       \"translations\", \"cioc\"]"
      ],
      "execution_count": null,
      "outputs": []
    },
    {
      "cell_type": "code",
      "metadata": {
        "id": "g0AmbLF_7kuc",
        "outputId": "561b5cba-de57-4a0d-d97d-9a25fc70ba9f",
        "colab": {
          "base_uri": "https://localhost:8080/",
          "height": 206
        }
      },
      "source": [
        "# Since the response data is a list of json objects it must be parsed into \n",
        "# something useful and easy to read. That's why in here I'll\n",
        "# extract with a map function only the fields of interest of the dict objects\n",
        "\n",
        "new_data = []\n",
        "\n",
        "for item in data:\n",
        "    new_data.append(\n",
        "      dict(\n",
        "        name=item[\"name\"],\n",
        "        capital=item[\"capital\"],\n",
        "        region=item[\"region\"],\n",
        "        subregion=item[\"subregion\"],\n",
        "        population=item[\"population\"],\n",
        "        latlng=item[\"latlng\"],\n",
        "        area=item[\"area\"],\n",
        "        gini=item[\"gini\"],\n",
        "        currencies=\"\".join(list(map(lambda field: str(field[\"name\"]), item[\"currencies\"]))),\n",
        "        languages=list(map(lambda field: field[\"name\"], item[\"languages\"])),\n",
        "        regionalBlocs=list(map(lambda field: field[\"name\"], item[\"regionalBlocs\"]))\n",
        "      )\n",
        "    )\n",
        "\n",
        "# This is what the data looks like\n",
        "df = pd.DataFrame(new_data)\n",
        "df.head()"
      ],
      "execution_count": null,
      "outputs": [
        {
          "output_type": "execute_result",
          "data": {
            "text/html": [
              "<div>\n",
              "<style scoped>\n",
              "    .dataframe tbody tr th:only-of-type {\n",
              "        vertical-align: middle;\n",
              "    }\n",
              "\n",
              "    .dataframe tbody tr th {\n",
              "        vertical-align: top;\n",
              "    }\n",
              "\n",
              "    .dataframe thead th {\n",
              "        text-align: right;\n",
              "    }\n",
              "</style>\n",
              "<table border=\"1\" class=\"dataframe\">\n",
              "  <thead>\n",
              "    <tr style=\"text-align: right;\">\n",
              "      <th></th>\n",
              "      <th>name</th>\n",
              "      <th>capital</th>\n",
              "      <th>region</th>\n",
              "      <th>subregion</th>\n",
              "      <th>population</th>\n",
              "      <th>latlng</th>\n",
              "      <th>area</th>\n",
              "      <th>gini</th>\n",
              "      <th>currencies</th>\n",
              "      <th>languages</th>\n",
              "      <th>regionalBlocs</th>\n",
              "    </tr>\n",
              "  </thead>\n",
              "  <tbody>\n",
              "    <tr>\n",
              "      <th>0</th>\n",
              "      <td>Afghanistan</td>\n",
              "      <td>Kabul</td>\n",
              "      <td>Asia</td>\n",
              "      <td>Southern Asia</td>\n",
              "      <td>27657145</td>\n",
              "      <td>[33.0, 65.0]</td>\n",
              "      <td>652230.0</td>\n",
              "      <td>27.8</td>\n",
              "      <td>Afghan afghani</td>\n",
              "      <td>[Pashto, Uzbek, Turkmen]</td>\n",
              "      <td>[South Asian Association for Regional Cooperat...</td>\n",
              "    </tr>\n",
              "    <tr>\n",
              "      <th>1</th>\n",
              "      <td>Åland Islands</td>\n",
              "      <td>Mariehamn</td>\n",
              "      <td>Europe</td>\n",
              "      <td>Northern Europe</td>\n",
              "      <td>28875</td>\n",
              "      <td>[60.116667, 19.9]</td>\n",
              "      <td>1580.0</td>\n",
              "      <td>NaN</td>\n",
              "      <td>Euro</td>\n",
              "      <td>[Swedish]</td>\n",
              "      <td>[European Union]</td>\n",
              "    </tr>\n",
              "    <tr>\n",
              "      <th>2</th>\n",
              "      <td>Albania</td>\n",
              "      <td>Tirana</td>\n",
              "      <td>Europe</td>\n",
              "      <td>Southern Europe</td>\n",
              "      <td>2886026</td>\n",
              "      <td>[41.0, 20.0]</td>\n",
              "      <td>28748.0</td>\n",
              "      <td>34.5</td>\n",
              "      <td>Albanian lek</td>\n",
              "      <td>[Albanian]</td>\n",
              "      <td>[Central European Free Trade Agreement]</td>\n",
              "    </tr>\n",
              "    <tr>\n",
              "      <th>3</th>\n",
              "      <td>Algeria</td>\n",
              "      <td>Algiers</td>\n",
              "      <td>Africa</td>\n",
              "      <td>Northern Africa</td>\n",
              "      <td>40400000</td>\n",
              "      <td>[28.0, 3.0]</td>\n",
              "      <td>2381741.0</td>\n",
              "      <td>35.3</td>\n",
              "      <td>Algerian dinar</td>\n",
              "      <td>[Arabic]</td>\n",
              "      <td>[African Union, Arab League]</td>\n",
              "    </tr>\n",
              "    <tr>\n",
              "      <th>4</th>\n",
              "      <td>American Samoa</td>\n",
              "      <td>Pago Pago</td>\n",
              "      <td>Oceania</td>\n",
              "      <td>Polynesia</td>\n",
              "      <td>57100</td>\n",
              "      <td>[-14.33333333, -170.0]</td>\n",
              "      <td>199.0</td>\n",
              "      <td>NaN</td>\n",
              "      <td>United State Dollar</td>\n",
              "      <td>[English, Samoan]</td>\n",
              "      <td>[]</td>\n",
              "    </tr>\n",
              "  </tbody>\n",
              "</table>\n",
              "</div>"
            ],
            "text/plain": [
              "             name  ...                                      regionalBlocs\n",
              "0     Afghanistan  ...  [South Asian Association for Regional Cooperat...\n",
              "1   Åland Islands  ...                                   [European Union]\n",
              "2         Albania  ...            [Central European Free Trade Agreement]\n",
              "3         Algeria  ...                       [African Union, Arab League]\n",
              "4  American Samoa  ...                                                 []\n",
              "\n",
              "[5 rows x 11 columns]"
            ]
          },
          "metadata": {
            "tags": []
          },
          "execution_count": 190
        }
      ]
    },
    {
      "cell_type": "code",
      "metadata": {
        "id": "ZRfa5P-PEGmy",
        "outputId": "7e18cdd2-9f3c-4413-b8da-ff97e6c08899",
        "colab": {
          "base_uri": "https://localhost:8080/"
        }
      },
      "source": [
        "# Basic dataframe information\n",
        "\n",
        "print(f\"--- Shape = {df.shape}\")\n",
        "\n",
        "print(f\"\\n--- Datatypes = {df.dtypes}\")\n",
        "\n",
        "print(\"\\n--- Are there null items?\\n\")\n",
        "\n",
        "print(df.isnull().any())"
      ],
      "execution_count": null,
      "outputs": [
        {
          "output_type": "stream",
          "text": [
            "--- Shape = (250, 11)\n",
            "\n",
            "--- Datatypes = name              object\n",
            "capital           object\n",
            "region            object\n",
            "subregion         object\n",
            "population         int64\n",
            "latlng            object\n",
            "area             float64\n",
            "gini             float64\n",
            "currencies        object\n",
            "languages         object\n",
            "regionalBlocs     object\n",
            "dtype: object\n",
            "\n",
            "--- Are there null items?\n",
            "\n",
            "name             False\n",
            "capital          False\n",
            "region           False\n",
            "subregion        False\n",
            "population       False\n",
            "latlng           False\n",
            "area              True\n",
            "gini              True\n",
            "currencies       False\n",
            "languages        False\n",
            "regionalBlocs    False\n",
            "dtype: bool\n"
          ],
          "name": "stdout"
        }
      ]
    },
    {
      "cell_type": "code",
      "metadata": {
        "id": "XW8Ba1Y1FlD8",
        "outputId": "3338d5d1-5565-4df4-b9b1-736a511e0a1d",
        "colab": {
          "base_uri": "https://localhost:8080/",
          "height": 224
        }
      },
      "source": [
        "# Some fields have not valid values, let's drop them \n",
        "# to don't alter the analysis of the data\n",
        "# Some rows get dropped (98)\n",
        "\n",
        "df.dropna(inplace=True, how=\"any\")\n",
        "df.reset_index(inplace=True, drop=True)\n",
        "\n",
        "print(f\"Dataframe shape = {df.shape}\")\n",
        "\n",
        "df.head()"
      ],
      "execution_count": null,
      "outputs": [
        {
          "output_type": "stream",
          "text": [
            "Dataframe shape = (152, 11)\n"
          ],
          "name": "stdout"
        },
        {
          "output_type": "execute_result",
          "data": {
            "text/html": [
              "<div>\n",
              "<style scoped>\n",
              "    .dataframe tbody tr th:only-of-type {\n",
              "        vertical-align: middle;\n",
              "    }\n",
              "\n",
              "    .dataframe tbody tr th {\n",
              "        vertical-align: top;\n",
              "    }\n",
              "\n",
              "    .dataframe thead th {\n",
              "        text-align: right;\n",
              "    }\n",
              "</style>\n",
              "<table border=\"1\" class=\"dataframe\">\n",
              "  <thead>\n",
              "    <tr style=\"text-align: right;\">\n",
              "      <th></th>\n",
              "      <th>name</th>\n",
              "      <th>capital</th>\n",
              "      <th>region</th>\n",
              "      <th>subregion</th>\n",
              "      <th>population</th>\n",
              "      <th>latlng</th>\n",
              "      <th>area</th>\n",
              "      <th>gini</th>\n",
              "      <th>currencies</th>\n",
              "      <th>languages</th>\n",
              "      <th>regionalBlocs</th>\n",
              "    </tr>\n",
              "  </thead>\n",
              "  <tbody>\n",
              "    <tr>\n",
              "      <th>0</th>\n",
              "      <td>Afghanistan</td>\n",
              "      <td>Kabul</td>\n",
              "      <td>Asia</td>\n",
              "      <td>Southern Asia</td>\n",
              "      <td>27657145</td>\n",
              "      <td>[33.0, 65.0]</td>\n",
              "      <td>652230.0</td>\n",
              "      <td>27.8</td>\n",
              "      <td>Afghan afghani</td>\n",
              "      <td>[Pashto, Uzbek, Turkmen]</td>\n",
              "      <td>[South Asian Association for Regional Cooperat...</td>\n",
              "    </tr>\n",
              "    <tr>\n",
              "      <th>1</th>\n",
              "      <td>Albania</td>\n",
              "      <td>Tirana</td>\n",
              "      <td>Europe</td>\n",
              "      <td>Southern Europe</td>\n",
              "      <td>2886026</td>\n",
              "      <td>[41.0, 20.0]</td>\n",
              "      <td>28748.0</td>\n",
              "      <td>34.5</td>\n",
              "      <td>Albanian lek</td>\n",
              "      <td>[Albanian]</td>\n",
              "      <td>[Central European Free Trade Agreement]</td>\n",
              "    </tr>\n",
              "    <tr>\n",
              "      <th>2</th>\n",
              "      <td>Algeria</td>\n",
              "      <td>Algiers</td>\n",
              "      <td>Africa</td>\n",
              "      <td>Northern Africa</td>\n",
              "      <td>40400000</td>\n",
              "      <td>[28.0, 3.0]</td>\n",
              "      <td>2381741.0</td>\n",
              "      <td>35.3</td>\n",
              "      <td>Algerian dinar</td>\n",
              "      <td>[Arabic]</td>\n",
              "      <td>[African Union, Arab League]</td>\n",
              "    </tr>\n",
              "    <tr>\n",
              "      <th>3</th>\n",
              "      <td>Angola</td>\n",
              "      <td>Luanda</td>\n",
              "      <td>Africa</td>\n",
              "      <td>Middle Africa</td>\n",
              "      <td>25868000</td>\n",
              "      <td>[-12.5, 18.5]</td>\n",
              "      <td>1246700.0</td>\n",
              "      <td>58.6</td>\n",
              "      <td>Angolan kwanza</td>\n",
              "      <td>[Portuguese]</td>\n",
              "      <td>[African Union]</td>\n",
              "    </tr>\n",
              "    <tr>\n",
              "      <th>4</th>\n",
              "      <td>Argentina</td>\n",
              "      <td>Buenos Aires</td>\n",
              "      <td>Americas</td>\n",
              "      <td>South America</td>\n",
              "      <td>43590400</td>\n",
              "      <td>[-34.0, -64.0]</td>\n",
              "      <td>2780400.0</td>\n",
              "      <td>44.5</td>\n",
              "      <td>Argentine peso</td>\n",
              "      <td>[Spanish, Guaraní]</td>\n",
              "      <td>[Union of South American Nations]</td>\n",
              "    </tr>\n",
              "  </tbody>\n",
              "</table>\n",
              "</div>"
            ],
            "text/plain": [
              "          name  ...                                      regionalBlocs\n",
              "0  Afghanistan  ...  [South Asian Association for Regional Cooperat...\n",
              "1      Albania  ...            [Central European Free Trade Agreement]\n",
              "2      Algeria  ...                       [African Union, Arab League]\n",
              "3       Angola  ...                                    [African Union]\n",
              "4    Argentina  ...                  [Union of South American Nations]\n",
              "\n",
              "[5 rows x 11 columns]"
            ]
          },
          "metadata": {
            "tags": []
          },
          "execution_count": 209
        }
      ]
    },
    {
      "cell_type": "code",
      "metadata": {
        "id": "QuCWPkl__mAi",
        "outputId": "65ad5c3f-ae1a-4941-c733-bb57a34d7f10",
        "colab": {
          "base_uri": "https://localhost:8080/",
          "height": 300
        }
      },
      "source": [
        "df.describe()"
      ],
      "execution_count": null,
      "outputs": [
        {
          "output_type": "execute_result",
          "data": {
            "text/html": [
              "<div>\n",
              "<style scoped>\n",
              "    .dataframe tbody tr th:only-of-type {\n",
              "        vertical-align: middle;\n",
              "    }\n",
              "\n",
              "    .dataframe tbody tr th {\n",
              "        vertical-align: top;\n",
              "    }\n",
              "\n",
              "    .dataframe thead th {\n",
              "        text-align: right;\n",
              "    }\n",
              "</style>\n",
              "<table border=\"1\" class=\"dataframe\">\n",
              "  <thead>\n",
              "    <tr style=\"text-align: right;\">\n",
              "      <th></th>\n",
              "      <th>population</th>\n",
              "      <th>area</th>\n",
              "      <th>gini</th>\n",
              "    </tr>\n",
              "  </thead>\n",
              "  <tbody>\n",
              "    <tr>\n",
              "      <th>count</th>\n",
              "      <td>1.520000e+02</td>\n",
              "      <td>1.520000e+02</td>\n",
              "      <td>152.000000</td>\n",
              "    </tr>\n",
              "    <tr>\n",
              "      <th>mean</th>\n",
              "      <td>4.627098e+07</td>\n",
              "      <td>8.210339e+05</td>\n",
              "      <td>40.207895</td>\n",
              "    </tr>\n",
              "    <tr>\n",
              "      <th>std</th>\n",
              "      <td>1.572678e+08</td>\n",
              "      <td>2.130387e+06</td>\n",
              "      <td>9.287901</td>\n",
              "    </tr>\n",
              "    <tr>\n",
              "      <th>min</th>\n",
              "      <td>9.140000e+04</td>\n",
              "      <td>3.000000e+02</td>\n",
              "      <td>24.000000</td>\n",
              "    </tr>\n",
              "    <tr>\n",
              "      <th>25%</th>\n",
              "      <td>4.096670e+06</td>\n",
              "      <td>5.058425e+04</td>\n",
              "      <td>33.625000</td>\n",
              "    </tr>\n",
              "    <tr>\n",
              "      <th>50%</th>\n",
              "      <td>1.060609e+07</td>\n",
              "      <td>2.112845e+05</td>\n",
              "      <td>38.750000</td>\n",
              "    </tr>\n",
              "    <tr>\n",
              "      <th>75%</th>\n",
              "      <td>3.151062e+07</td>\n",
              "      <td>6.205548e+05</td>\n",
              "      <td>46.400000</td>\n",
              "    </tr>\n",
              "    <tr>\n",
              "      <th>max</th>\n",
              "      <td>1.377422e+09</td>\n",
              "      <td>1.712444e+07</td>\n",
              "      <td>65.800000</td>\n",
              "    </tr>\n",
              "  </tbody>\n",
              "</table>\n",
              "</div>"
            ],
            "text/plain": [
              "         population          area        gini\n",
              "count  1.520000e+02  1.520000e+02  152.000000\n",
              "mean   4.627098e+07  8.210339e+05   40.207895\n",
              "std    1.572678e+08  2.130387e+06    9.287901\n",
              "min    9.140000e+04  3.000000e+02   24.000000\n",
              "25%    4.096670e+06  5.058425e+04   33.625000\n",
              "50%    1.060609e+07  2.112845e+05   38.750000\n",
              "75%    3.151062e+07  6.205548e+05   46.400000\n",
              "max    1.377422e+09  1.712444e+07   65.800000"
            ]
          },
          "metadata": {
            "tags": []
          },
          "execution_count": 210
        }
      ]
    },
    {
      "cell_type": "code",
      "metadata": {
        "id": "ugQCgcN_MpYS",
        "outputId": "0db20b5f-c831-4264-ca1c-60e176a1cbac",
        "colab": {
          "base_uri": "https://localhost:8080/",
          "height": 238
        }
      },
      "source": [
        "# Group the dataframe by region and sum their values\n",
        "# The region with the most population is Asia\n",
        "\n",
        "df.groupby(\"region\").sum().sort_values(by=\"population\", ascending=False)"
      ],
      "execution_count": null,
      "outputs": [
        {
          "output_type": "execute_result",
          "data": {
            "text/html": [
              "<div>\n",
              "<style scoped>\n",
              "    .dataframe tbody tr th:only-of-type {\n",
              "        vertical-align: middle;\n",
              "    }\n",
              "\n",
              "    .dataframe tbody tr th {\n",
              "        vertical-align: top;\n",
              "    }\n",
              "\n",
              "    .dataframe thead th {\n",
              "        text-align: right;\n",
              "    }\n",
              "</style>\n",
              "<table border=\"1\" class=\"dataframe\">\n",
              "  <thead>\n",
              "    <tr style=\"text-align: right;\">\n",
              "      <th></th>\n",
              "      <th>population</th>\n",
              "      <th>area</th>\n",
              "      <th>gini</th>\n",
              "    </tr>\n",
              "    <tr>\n",
              "      <th>region</th>\n",
              "      <th></th>\n",
              "      <th></th>\n",
              "      <th></th>\n",
              "    </tr>\n",
              "  </thead>\n",
              "  <tbody>\n",
              "    <tr>\n",
              "      <th>Asia</th>\n",
              "      <td>4222206657</td>\n",
              "      <td>28654042.0</td>\n",
              "      <td>1408.3</td>\n",
              "    </tr>\n",
              "    <tr>\n",
              "      <th>Africa</th>\n",
              "      <td>1057669811</td>\n",
              "      <td>24757886.0</td>\n",
              "      <td>2050.7</td>\n",
              "    </tr>\n",
              "    <tr>\n",
              "      <th>Americas</th>\n",
              "      <td>972749050</td>\n",
              "      <td>39931247.0</td>\n",
              "      <td>1315.0</td>\n",
              "    </tr>\n",
              "    <tr>\n",
              "      <th>Europe</th>\n",
              "      <td>742797914</td>\n",
              "      <td>23010371.0</td>\n",
              "      <td>1177.2</td>\n",
              "    </tr>\n",
              "    <tr>\n",
              "      <th>Oceania</th>\n",
              "      <td>37765914</td>\n",
              "      <td>8443603.0</td>\n",
              "      <td>160.4</td>\n",
              "    </tr>\n",
              "  </tbody>\n",
              "</table>\n",
              "</div>"
            ],
            "text/plain": [
              "          population        area    gini\n",
              "region                                  \n",
              "Asia      4222206657  28654042.0  1408.3\n",
              "Africa    1057669811  24757886.0  2050.7\n",
              "Americas   972749050  39931247.0  1315.0\n",
              "Europe     742797914  23010371.0  1177.2\n",
              "Oceania     37765914   8443603.0   160.4"
            ]
          },
          "metadata": {
            "tags": []
          },
          "execution_count": 193
        }
      ]
    },
    {
      "cell_type": "code",
      "metadata": {
        "id": "_LNup9K8XZrV",
        "outputId": "cd33b821-f0d7-4b9a-b0c6-90b6fb6a4d65",
        "colab": {
          "base_uri": "https://localhost:8080/",
          "height": 455
        }
      },
      "source": [
        "# Group by country, sum the numeric values of each group and then\n",
        "# sort by population.\n",
        "# This is how we can see China is the country with the highest \n",
        "# population and Seychelles is the country with the least\n",
        "\n",
        "df.groupby(\"name\").sum().sort_values(by=\"population\", ascending=False)"
      ],
      "execution_count": null,
      "outputs": [
        {
          "output_type": "execute_result",
          "data": {
            "text/html": [
              "<div>\n",
              "<style scoped>\n",
              "    .dataframe tbody tr th:only-of-type {\n",
              "        vertical-align: middle;\n",
              "    }\n",
              "\n",
              "    .dataframe tbody tr th {\n",
              "        vertical-align: top;\n",
              "    }\n",
              "\n",
              "    .dataframe thead th {\n",
              "        text-align: right;\n",
              "    }\n",
              "</style>\n",
              "<table border=\"1\" class=\"dataframe\">\n",
              "  <thead>\n",
              "    <tr style=\"text-align: right;\">\n",
              "      <th></th>\n",
              "      <th>population</th>\n",
              "      <th>area</th>\n",
              "      <th>gini</th>\n",
              "    </tr>\n",
              "    <tr>\n",
              "      <th>name</th>\n",
              "      <th></th>\n",
              "      <th></th>\n",
              "      <th></th>\n",
              "    </tr>\n",
              "  </thead>\n",
              "  <tbody>\n",
              "    <tr>\n",
              "      <th>China</th>\n",
              "      <td>1377422166</td>\n",
              "      <td>9640011.0</td>\n",
              "      <td>47.0</td>\n",
              "    </tr>\n",
              "    <tr>\n",
              "      <th>India</th>\n",
              "      <td>1295210000</td>\n",
              "      <td>3287590.0</td>\n",
              "      <td>33.4</td>\n",
              "    </tr>\n",
              "    <tr>\n",
              "      <th>United States of America</th>\n",
              "      <td>323947000</td>\n",
              "      <td>9629091.0</td>\n",
              "      <td>48.0</td>\n",
              "    </tr>\n",
              "    <tr>\n",
              "      <th>Indonesia</th>\n",
              "      <td>258705000</td>\n",
              "      <td>1904569.0</td>\n",
              "      <td>34.0</td>\n",
              "    </tr>\n",
              "    <tr>\n",
              "      <th>Brazil</th>\n",
              "      <td>206135893</td>\n",
              "      <td>8515767.0</td>\n",
              "      <td>54.7</td>\n",
              "    </tr>\n",
              "    <tr>\n",
              "      <th>...</th>\n",
              "      <td>...</td>\n",
              "      <td>...</td>\n",
              "      <td>...</td>\n",
              "    </tr>\n",
              "    <tr>\n",
              "      <th>Belize</th>\n",
              "      <td>370300</td>\n",
              "      <td>22966.0</td>\n",
              "      <td>53.1</td>\n",
              "    </tr>\n",
              "    <tr>\n",
              "      <th>Maldives</th>\n",
              "      <td>344023</td>\n",
              "      <td>300.0</td>\n",
              "      <td>37.4</td>\n",
              "    </tr>\n",
              "    <tr>\n",
              "      <th>Sao Tome and Principe</th>\n",
              "      <td>187356</td>\n",
              "      <td>964.0</td>\n",
              "      <td>50.8</td>\n",
              "    </tr>\n",
              "    <tr>\n",
              "      <th>Saint Lucia</th>\n",
              "      <td>186000</td>\n",
              "      <td>616.0</td>\n",
              "      <td>42.6</td>\n",
              "    </tr>\n",
              "    <tr>\n",
              "      <th>Seychelles</th>\n",
              "      <td>91400</td>\n",
              "      <td>452.0</td>\n",
              "      <td>65.8</td>\n",
              "    </tr>\n",
              "  </tbody>\n",
              "</table>\n",
              "<p>152 rows × 3 columns</p>\n",
              "</div>"
            ],
            "text/plain": [
              "                          population       area  gini\n",
              "name                                                 \n",
              "China                     1377422166  9640011.0  47.0\n",
              "India                     1295210000  3287590.0  33.4\n",
              "United States of America   323947000  9629091.0  48.0\n",
              "Indonesia                  258705000  1904569.0  34.0\n",
              "Brazil                     206135893  8515767.0  54.7\n",
              "...                              ...        ...   ...\n",
              "Belize                        370300    22966.0  53.1\n",
              "Maldives                      344023      300.0  37.4\n",
              "Sao Tome and Principe         187356      964.0  50.8\n",
              "Saint Lucia                   186000      616.0  42.6\n",
              "Seychelles                     91400      452.0  65.8\n",
              "\n",
              "[152 rows x 3 columns]"
            ]
          },
          "metadata": {
            "tags": []
          },
          "execution_count": 317
        }
      ]
    },
    {
      "cell_type": "code",
      "metadata": {
        "id": "94sc6kced1Te",
        "outputId": "a60aaaf5-c284-4663-f0c8-d55c89d2f133",
        "colab": {
          "base_uri": "https://localhost:8080/",
          "height": 238
        }
      },
      "source": [
        "# Group by gini and get the row with the highest value\n",
        "# The gini index is a measure of the wealth distribution\n",
        "# in a country. The lowest the value the better.\n",
        "\n",
        "# Here we can see that the Seychelles country in Africa is\n",
        "# the worst one in terms of this index\n",
        "\n",
        "df_gini = df.groupby(\"gini\").max().sort_values(by=\"gini\", ascending=False)\n",
        "\n",
        "df_gini.head()"
      ],
      "execution_count": null,
      "outputs": [
        {
          "output_type": "execute_result",
          "data": {
            "text/html": [
              "<div>\n",
              "<style scoped>\n",
              "    .dataframe tbody tr th:only-of-type {\n",
              "        vertical-align: middle;\n",
              "    }\n",
              "\n",
              "    .dataframe tbody tr th {\n",
              "        vertical-align: top;\n",
              "    }\n",
              "\n",
              "    .dataframe thead th {\n",
              "        text-align: right;\n",
              "    }\n",
              "</style>\n",
              "<table border=\"1\" class=\"dataframe\">\n",
              "  <thead>\n",
              "    <tr style=\"text-align: right;\">\n",
              "      <th></th>\n",
              "      <th>name</th>\n",
              "      <th>capital</th>\n",
              "      <th>region</th>\n",
              "      <th>subregion</th>\n",
              "      <th>population</th>\n",
              "      <th>latlng</th>\n",
              "      <th>area</th>\n",
              "      <th>currencies</th>\n",
              "      <th>languages</th>\n",
              "      <th>regionalBlocs</th>\n",
              "    </tr>\n",
              "    <tr>\n",
              "      <th>gini</th>\n",
              "      <th></th>\n",
              "      <th></th>\n",
              "      <th></th>\n",
              "      <th></th>\n",
              "      <th></th>\n",
              "      <th></th>\n",
              "      <th></th>\n",
              "      <th></th>\n",
              "      <th></th>\n",
              "      <th></th>\n",
              "    </tr>\n",
              "  </thead>\n",
              "  <tbody>\n",
              "    <tr>\n",
              "      <th>65.8</th>\n",
              "      <td>Seychelles</td>\n",
              "      <td>Victoria</td>\n",
              "      <td>Africa</td>\n",
              "      <td>Eastern Africa</td>\n",
              "      <td>91400</td>\n",
              "      <td>[-4.58333333, 55.66666666]</td>\n",
              "      <td>452.0</td>\n",
              "      <td>Seychellois rupee</td>\n",
              "      <td>[French, English]</td>\n",
              "      <td>[African Union]</td>\n",
              "    </tr>\n",
              "    <tr>\n",
              "      <th>64.3</th>\n",
              "      <td>Comoros</td>\n",
              "      <td>Moroni</td>\n",
              "      <td>Africa</td>\n",
              "      <td>Eastern Africa</td>\n",
              "      <td>806153</td>\n",
              "      <td>[-12.16666666, 44.25]</td>\n",
              "      <td>1862.0</td>\n",
              "      <td>Comorian franc</td>\n",
              "      <td>[Arabic, French]</td>\n",
              "      <td>[African Union, Arab League]</td>\n",
              "    </tr>\n",
              "    <tr>\n",
              "      <th>63.9</th>\n",
              "      <td>Namibia</td>\n",
              "      <td>Windhoek</td>\n",
              "      <td>Africa</td>\n",
              "      <td>Southern Africa</td>\n",
              "      <td>2324388</td>\n",
              "      <td>[-22.0, 17.0]</td>\n",
              "      <td>825615.0</td>\n",
              "      <td>Namibian dollarSouth African rand</td>\n",
              "      <td>[English, Afrikaans]</td>\n",
              "      <td>[African Union]</td>\n",
              "    </tr>\n",
              "    <tr>\n",
              "      <th>63.1</th>\n",
              "      <td>South Africa</td>\n",
              "      <td>Pretoria</td>\n",
              "      <td>Africa</td>\n",
              "      <td>Southern Africa</td>\n",
              "      <td>55653654</td>\n",
              "      <td>[-29.0, 24.0]</td>\n",
              "      <td>1221037.0</td>\n",
              "      <td>South African rand</td>\n",
              "      <td>[Afrikaans, English, Southern Ndebele, Souther...</td>\n",
              "      <td>[African Union]</td>\n",
              "    </tr>\n",
              "    <tr>\n",
              "      <th>61.0</th>\n",
              "      <td>Botswana</td>\n",
              "      <td>Gaborone</td>\n",
              "      <td>Africa</td>\n",
              "      <td>Southern Africa</td>\n",
              "      <td>2141206</td>\n",
              "      <td>[-22.0, 24.0]</td>\n",
              "      <td>582000.0</td>\n",
              "      <td>Botswana pula</td>\n",
              "      <td>[English, Tswana]</td>\n",
              "      <td>[African Union]</td>\n",
              "    </tr>\n",
              "  </tbody>\n",
              "</table>\n",
              "</div>"
            ],
            "text/plain": [
              "              name  ...                 regionalBlocs\n",
              "gini                ...                              \n",
              "65.8    Seychelles  ...               [African Union]\n",
              "64.3       Comoros  ...  [African Union, Arab League]\n",
              "63.9       Namibia  ...               [African Union]\n",
              "63.1  South Africa  ...               [African Union]\n",
              "61.0      Botswana  ...               [African Union]\n",
              "\n",
              "[5 rows x 10 columns]"
            ]
          },
          "metadata": {
            "tags": []
          },
          "execution_count": 318
        }
      ]
    },
    {
      "cell_type": "code",
      "metadata": {
        "id": "lNu_8FJrj2iD",
        "outputId": "86335872-03d4-46fb-b1d8-425fc41d859b",
        "colab": {
          "base_uri": "https://localhost:8080/",
          "height": 614
        }
      },
      "source": [
        "# Group by currencies and display the ones that uses Euro \n",
        "\n",
        "df.groupby(\"currencies\").get_group(\"Euro\").reset_index(drop=True)"
      ],
      "execution_count": null,
      "outputs": [
        {
          "output_type": "execute_result",
          "data": {
            "text/html": [
              "<div>\n",
              "<style scoped>\n",
              "    .dataframe tbody tr th:only-of-type {\n",
              "        vertical-align: middle;\n",
              "    }\n",
              "\n",
              "    .dataframe tbody tr th {\n",
              "        vertical-align: top;\n",
              "    }\n",
              "\n",
              "    .dataframe thead th {\n",
              "        text-align: right;\n",
              "    }\n",
              "</style>\n",
              "<table border=\"1\" class=\"dataframe\">\n",
              "  <thead>\n",
              "    <tr style=\"text-align: right;\">\n",
              "      <th></th>\n",
              "      <th>name</th>\n",
              "      <th>capital</th>\n",
              "      <th>region</th>\n",
              "      <th>subregion</th>\n",
              "      <th>population</th>\n",
              "      <th>latlng</th>\n",
              "      <th>area</th>\n",
              "      <th>gini</th>\n",
              "      <th>currencies</th>\n",
              "      <th>languages</th>\n",
              "      <th>regionalBlocs</th>\n",
              "    </tr>\n",
              "  </thead>\n",
              "  <tbody>\n",
              "    <tr>\n",
              "      <th>0</th>\n",
              "      <td>Austria</td>\n",
              "      <td>Vienna</td>\n",
              "      <td>Europe</td>\n",
              "      <td>Western Europe</td>\n",
              "      <td>8725931</td>\n",
              "      <td>[47.33333333, 13.33333333]</td>\n",
              "      <td>83871.0</td>\n",
              "      <td>26.0</td>\n",
              "      <td>Euro</td>\n",
              "      <td>[German]</td>\n",
              "      <td>[European Union]</td>\n",
              "    </tr>\n",
              "    <tr>\n",
              "      <th>1</th>\n",
              "      <td>Belgium</td>\n",
              "      <td>Brussels</td>\n",
              "      <td>Europe</td>\n",
              "      <td>Western Europe</td>\n",
              "      <td>11319511</td>\n",
              "      <td>[50.83333333, 4.0]</td>\n",
              "      <td>30528.0</td>\n",
              "      <td>33.0</td>\n",
              "      <td>Euro</td>\n",
              "      <td>[Dutch, French, German]</td>\n",
              "      <td>[European Union]</td>\n",
              "    </tr>\n",
              "    <tr>\n",
              "      <th>2</th>\n",
              "      <td>Estonia</td>\n",
              "      <td>Tallinn</td>\n",
              "      <td>Europe</td>\n",
              "      <td>Northern Europe</td>\n",
              "      <td>1315944</td>\n",
              "      <td>[59.0, 26.0]</td>\n",
              "      <td>45227.0</td>\n",
              "      <td>36.0</td>\n",
              "      <td>Euro</td>\n",
              "      <td>[Estonian]</td>\n",
              "      <td>[European Union]</td>\n",
              "    </tr>\n",
              "    <tr>\n",
              "      <th>3</th>\n",
              "      <td>Finland</td>\n",
              "      <td>Helsinki</td>\n",
              "      <td>Europe</td>\n",
              "      <td>Northern Europe</td>\n",
              "      <td>5491817</td>\n",
              "      <td>[64.0, 26.0]</td>\n",
              "      <td>338424.0</td>\n",
              "      <td>26.9</td>\n",
              "      <td>Euro</td>\n",
              "      <td>[Finnish, Swedish]</td>\n",
              "      <td>[European Union]</td>\n",
              "    </tr>\n",
              "    <tr>\n",
              "      <th>4</th>\n",
              "      <td>France</td>\n",
              "      <td>Paris</td>\n",
              "      <td>Europe</td>\n",
              "      <td>Western Europe</td>\n",
              "      <td>66710000</td>\n",
              "      <td>[46.0, 2.0]</td>\n",
              "      <td>640679.0</td>\n",
              "      <td>32.7</td>\n",
              "      <td>Euro</td>\n",
              "      <td>[French]</td>\n",
              "      <td>[European Union]</td>\n",
              "    </tr>\n",
              "    <tr>\n",
              "      <th>5</th>\n",
              "      <td>Germany</td>\n",
              "      <td>Berlin</td>\n",
              "      <td>Europe</td>\n",
              "      <td>Western Europe</td>\n",
              "      <td>81770900</td>\n",
              "      <td>[51.0, 9.0]</td>\n",
              "      <td>357114.0</td>\n",
              "      <td>28.3</td>\n",
              "      <td>Euro</td>\n",
              "      <td>[German]</td>\n",
              "      <td>[European Union]</td>\n",
              "    </tr>\n",
              "    <tr>\n",
              "      <th>6</th>\n",
              "      <td>Greece</td>\n",
              "      <td>Athens</td>\n",
              "      <td>Europe</td>\n",
              "      <td>Southern Europe</td>\n",
              "      <td>10858018</td>\n",
              "      <td>[39.0, 22.0]</td>\n",
              "      <td>131990.0</td>\n",
              "      <td>34.3</td>\n",
              "      <td>Euro</td>\n",
              "      <td>[Greek (modern)]</td>\n",
              "      <td>[European Union]</td>\n",
              "    </tr>\n",
              "    <tr>\n",
              "      <th>7</th>\n",
              "      <td>Ireland</td>\n",
              "      <td>Dublin</td>\n",
              "      <td>Europe</td>\n",
              "      <td>Northern Europe</td>\n",
              "      <td>6378000</td>\n",
              "      <td>[53.0, -8.0]</td>\n",
              "      <td>70273.0</td>\n",
              "      <td>34.3</td>\n",
              "      <td>Euro</td>\n",
              "      <td>[Irish, English]</td>\n",
              "      <td>[European Union]</td>\n",
              "    </tr>\n",
              "    <tr>\n",
              "      <th>8</th>\n",
              "      <td>Italy</td>\n",
              "      <td>Rome</td>\n",
              "      <td>Europe</td>\n",
              "      <td>Southern Europe</td>\n",
              "      <td>60665551</td>\n",
              "      <td>[42.83333333, 12.83333333]</td>\n",
              "      <td>301336.0</td>\n",
              "      <td>36.0</td>\n",
              "      <td>Euro</td>\n",
              "      <td>[Italian]</td>\n",
              "      <td>[European Union]</td>\n",
              "    </tr>\n",
              "    <tr>\n",
              "      <th>9</th>\n",
              "      <td>Latvia</td>\n",
              "      <td>Riga</td>\n",
              "      <td>Europe</td>\n",
              "      <td>Northern Europe</td>\n",
              "      <td>1961600</td>\n",
              "      <td>[57.0, 25.0]</td>\n",
              "      <td>64559.0</td>\n",
              "      <td>36.6</td>\n",
              "      <td>Euro</td>\n",
              "      <td>[Latvian]</td>\n",
              "      <td>[European Union]</td>\n",
              "    </tr>\n",
              "    <tr>\n",
              "      <th>10</th>\n",
              "      <td>Lithuania</td>\n",
              "      <td>Vilnius</td>\n",
              "      <td>Europe</td>\n",
              "      <td>Northern Europe</td>\n",
              "      <td>2872294</td>\n",
              "      <td>[56.0, 24.0]</td>\n",
              "      <td>65300.0</td>\n",
              "      <td>37.6</td>\n",
              "      <td>Euro</td>\n",
              "      <td>[Lithuanian]</td>\n",
              "      <td>[European Union]</td>\n",
              "    </tr>\n",
              "    <tr>\n",
              "      <th>11</th>\n",
              "      <td>Luxembourg</td>\n",
              "      <td>Luxembourg</td>\n",
              "      <td>Europe</td>\n",
              "      <td>Western Europe</td>\n",
              "      <td>576200</td>\n",
              "      <td>[49.75, 6.16666666]</td>\n",
              "      <td>2586.0</td>\n",
              "      <td>30.8</td>\n",
              "      <td>Euro</td>\n",
              "      <td>[French, German, Luxembourgish]</td>\n",
              "      <td>[European Union]</td>\n",
              "    </tr>\n",
              "    <tr>\n",
              "      <th>12</th>\n",
              "      <td>Montenegro</td>\n",
              "      <td>Podgorica</td>\n",
              "      <td>Europe</td>\n",
              "      <td>Southern Europe</td>\n",
              "      <td>621810</td>\n",
              "      <td>[42.5, 19.3]</td>\n",
              "      <td>13812.0</td>\n",
              "      <td>30.0</td>\n",
              "      <td>Euro</td>\n",
              "      <td>[Serbian, Bosnian, Albanian, Croatian]</td>\n",
              "      <td>[Central European Free Trade Agreement]</td>\n",
              "    </tr>\n",
              "    <tr>\n",
              "      <th>13</th>\n",
              "      <td>Netherlands</td>\n",
              "      <td>Amsterdam</td>\n",
              "      <td>Europe</td>\n",
              "      <td>Western Europe</td>\n",
              "      <td>17019800</td>\n",
              "      <td>[52.5, 5.75]</td>\n",
              "      <td>41850.0</td>\n",
              "      <td>30.9</td>\n",
              "      <td>Euro</td>\n",
              "      <td>[Dutch]</td>\n",
              "      <td>[European Union]</td>\n",
              "    </tr>\n",
              "    <tr>\n",
              "      <th>14</th>\n",
              "      <td>Portugal</td>\n",
              "      <td>Lisbon</td>\n",
              "      <td>Europe</td>\n",
              "      <td>Southern Europe</td>\n",
              "      <td>10374822</td>\n",
              "      <td>[39.5, -8.0]</td>\n",
              "      <td>92090.0</td>\n",
              "      <td>38.5</td>\n",
              "      <td>Euro</td>\n",
              "      <td>[Portuguese]</td>\n",
              "      <td>[European Union]</td>\n",
              "    </tr>\n",
              "    <tr>\n",
              "      <th>15</th>\n",
              "      <td>Slovakia</td>\n",
              "      <td>Bratislava</td>\n",
              "      <td>Europe</td>\n",
              "      <td>Eastern Europe</td>\n",
              "      <td>5426252</td>\n",
              "      <td>[48.66666666, 19.5]</td>\n",
              "      <td>49037.0</td>\n",
              "      <td>26.0</td>\n",
              "      <td>Euro</td>\n",
              "      <td>[Slovak]</td>\n",
              "      <td>[European Union]</td>\n",
              "    </tr>\n",
              "    <tr>\n",
              "      <th>16</th>\n",
              "      <td>Slovenia</td>\n",
              "      <td>Ljubljana</td>\n",
              "      <td>Europe</td>\n",
              "      <td>Southern Europe</td>\n",
              "      <td>2064188</td>\n",
              "      <td>[46.11666666, 14.81666666]</td>\n",
              "      <td>20273.0</td>\n",
              "      <td>31.2</td>\n",
              "      <td>Euro</td>\n",
              "      <td>[Slovene]</td>\n",
              "      <td>[European Union]</td>\n",
              "    </tr>\n",
              "    <tr>\n",
              "      <th>17</th>\n",
              "      <td>Spain</td>\n",
              "      <td>Madrid</td>\n",
              "      <td>Europe</td>\n",
              "      <td>Southern Europe</td>\n",
              "      <td>46438422</td>\n",
              "      <td>[40.0, -4.0]</td>\n",
              "      <td>505992.0</td>\n",
              "      <td>34.7</td>\n",
              "      <td>Euro</td>\n",
              "      <td>[Spanish]</td>\n",
              "      <td>[European Union]</td>\n",
              "    </tr>\n",
              "  </tbody>\n",
              "</table>\n",
              "</div>"
            ],
            "text/plain": [
              "           name  ...                            regionalBlocs\n",
              "0       Austria  ...                         [European Union]\n",
              "1       Belgium  ...                         [European Union]\n",
              "2       Estonia  ...                         [European Union]\n",
              "3       Finland  ...                         [European Union]\n",
              "4        France  ...                         [European Union]\n",
              "5       Germany  ...                         [European Union]\n",
              "6        Greece  ...                         [European Union]\n",
              "7       Ireland  ...                         [European Union]\n",
              "8         Italy  ...                         [European Union]\n",
              "9        Latvia  ...                         [European Union]\n",
              "10    Lithuania  ...                         [European Union]\n",
              "11   Luxembourg  ...                         [European Union]\n",
              "12   Montenegro  ...  [Central European Free Trade Agreement]\n",
              "13  Netherlands  ...                         [European Union]\n",
              "14     Portugal  ...                         [European Union]\n",
              "15     Slovakia  ...                         [European Union]\n",
              "16     Slovenia  ...                         [European Union]\n",
              "17        Spain  ...                         [European Union]\n",
              "\n",
              "[18 rows x 11 columns]"
            ]
          },
          "metadata": {
            "tags": []
          },
          "execution_count": 357
        }
      ]
    },
    {
      "cell_type": "code",
      "metadata": {
        "id": "42DudZzAEUp_",
        "outputId": "4ae0ae34-2d57-42c2-aa89-72f78befd52c",
        "colab": {
          "base_uri": "https://localhost:8080/",
          "height": 614
        }
      },
      "source": [
        "# This is the same as above\n",
        "\n",
        "df[df[\"currencies\"] == \"Euro\"].reset_index()"
      ],
      "execution_count": null,
      "outputs": [
        {
          "output_type": "execute_result",
          "data": {
            "text/html": [
              "<div>\n",
              "<style scoped>\n",
              "    .dataframe tbody tr th:only-of-type {\n",
              "        vertical-align: middle;\n",
              "    }\n",
              "\n",
              "    .dataframe tbody tr th {\n",
              "        vertical-align: top;\n",
              "    }\n",
              "\n",
              "    .dataframe thead th {\n",
              "        text-align: right;\n",
              "    }\n",
              "</style>\n",
              "<table border=\"1\" class=\"dataframe\">\n",
              "  <thead>\n",
              "    <tr style=\"text-align: right;\">\n",
              "      <th></th>\n",
              "      <th>index</th>\n",
              "      <th>name</th>\n",
              "      <th>capital</th>\n",
              "      <th>region</th>\n",
              "      <th>subregion</th>\n",
              "      <th>population</th>\n",
              "      <th>latlng</th>\n",
              "      <th>area</th>\n",
              "      <th>gini</th>\n",
              "      <th>currencies</th>\n",
              "      <th>languages</th>\n",
              "      <th>regionalBlocs</th>\n",
              "    </tr>\n",
              "  </thead>\n",
              "  <tbody>\n",
              "    <tr>\n",
              "      <th>0</th>\n",
              "      <td>7</td>\n",
              "      <td>Austria</td>\n",
              "      <td>Vienna</td>\n",
              "      <td>Europe</td>\n",
              "      <td>Western Europe</td>\n",
              "      <td>8725931</td>\n",
              "      <td>[47.33333333, 13.33333333]</td>\n",
              "      <td>83871.0</td>\n",
              "      <td>26.0</td>\n",
              "      <td>Euro</td>\n",
              "      <td>[German]</td>\n",
              "      <td>[European Union]</td>\n",
              "    </tr>\n",
              "    <tr>\n",
              "      <th>1</th>\n",
              "      <td>11</td>\n",
              "      <td>Belgium</td>\n",
              "      <td>Brussels</td>\n",
              "      <td>Europe</td>\n",
              "      <td>Western Europe</td>\n",
              "      <td>11319511</td>\n",
              "      <td>[50.83333333, 4.0]</td>\n",
              "      <td>30528.0</td>\n",
              "      <td>33.0</td>\n",
              "      <td>Euro</td>\n",
              "      <td>[Dutch, French, German]</td>\n",
              "      <td>[European Union]</td>\n",
              "    </tr>\n",
              "    <tr>\n",
              "      <th>2</th>\n",
              "      <td>42</td>\n",
              "      <td>Estonia</td>\n",
              "      <td>Tallinn</td>\n",
              "      <td>Europe</td>\n",
              "      <td>Northern Europe</td>\n",
              "      <td>1315944</td>\n",
              "      <td>[59.0, 26.0]</td>\n",
              "      <td>45227.0</td>\n",
              "      <td>36.0</td>\n",
              "      <td>Euro</td>\n",
              "      <td>[Estonian]</td>\n",
              "      <td>[European Union]</td>\n",
              "    </tr>\n",
              "    <tr>\n",
              "      <th>3</th>\n",
              "      <td>45</td>\n",
              "      <td>Finland</td>\n",
              "      <td>Helsinki</td>\n",
              "      <td>Europe</td>\n",
              "      <td>Northern Europe</td>\n",
              "      <td>5491817</td>\n",
              "      <td>[64.0, 26.0]</td>\n",
              "      <td>338424.0</td>\n",
              "      <td>26.9</td>\n",
              "      <td>Euro</td>\n",
              "      <td>[Finnish, Swedish]</td>\n",
              "      <td>[European Union]</td>\n",
              "    </tr>\n",
              "    <tr>\n",
              "      <th>4</th>\n",
              "      <td>46</td>\n",
              "      <td>France</td>\n",
              "      <td>Paris</td>\n",
              "      <td>Europe</td>\n",
              "      <td>Western Europe</td>\n",
              "      <td>66710000</td>\n",
              "      <td>[46.0, 2.0]</td>\n",
              "      <td>640679.0</td>\n",
              "      <td>32.7</td>\n",
              "      <td>Euro</td>\n",
              "      <td>[French]</td>\n",
              "      <td>[European Union]</td>\n",
              "    </tr>\n",
              "    <tr>\n",
              "      <th>5</th>\n",
              "      <td>49</td>\n",
              "      <td>Germany</td>\n",
              "      <td>Berlin</td>\n",
              "      <td>Europe</td>\n",
              "      <td>Western Europe</td>\n",
              "      <td>81770900</td>\n",
              "      <td>[51.0, 9.0]</td>\n",
              "      <td>357114.0</td>\n",
              "      <td>28.3</td>\n",
              "      <td>Euro</td>\n",
              "      <td>[German]</td>\n",
              "      <td>[European Union]</td>\n",
              "    </tr>\n",
              "    <tr>\n",
              "      <th>6</th>\n",
              "      <td>51</td>\n",
              "      <td>Greece</td>\n",
              "      <td>Athens</td>\n",
              "      <td>Europe</td>\n",
              "      <td>Southern Europe</td>\n",
              "      <td>10858018</td>\n",
              "      <td>[39.0, 22.0]</td>\n",
              "      <td>131990.0</td>\n",
              "      <td>34.3</td>\n",
              "      <td>Euro</td>\n",
              "      <td>[Greek (modern)]</td>\n",
              "      <td>[European Union]</td>\n",
              "    </tr>\n",
              "    <tr>\n",
              "      <th>7</th>\n",
              "      <td>65</td>\n",
              "      <td>Ireland</td>\n",
              "      <td>Dublin</td>\n",
              "      <td>Europe</td>\n",
              "      <td>Northern Europe</td>\n",
              "      <td>6378000</td>\n",
              "      <td>[53.0, -8.0]</td>\n",
              "      <td>70273.0</td>\n",
              "      <td>34.3</td>\n",
              "      <td>Euro</td>\n",
              "      <td>[Irish, English]</td>\n",
              "      <td>[European Union]</td>\n",
              "    </tr>\n",
              "    <tr>\n",
              "      <th>8</th>\n",
              "      <td>67</td>\n",
              "      <td>Italy</td>\n",
              "      <td>Rome</td>\n",
              "      <td>Europe</td>\n",
              "      <td>Southern Europe</td>\n",
              "      <td>60665551</td>\n",
              "      <td>[42.83333333, 12.83333333]</td>\n",
              "      <td>301336.0</td>\n",
              "      <td>36.0</td>\n",
              "      <td>Euro</td>\n",
              "      <td>[Italian]</td>\n",
              "      <td>[European Union]</td>\n",
              "    </tr>\n",
              "    <tr>\n",
              "      <th>9</th>\n",
              "      <td>75</td>\n",
              "      <td>Latvia</td>\n",
              "      <td>Riga</td>\n",
              "      <td>Europe</td>\n",
              "      <td>Northern Europe</td>\n",
              "      <td>1961600</td>\n",
              "      <td>[57.0, 25.0]</td>\n",
              "      <td>64559.0</td>\n",
              "      <td>36.6</td>\n",
              "      <td>Euro</td>\n",
              "      <td>[Latvian]</td>\n",
              "      <td>[European Union]</td>\n",
              "    </tr>\n",
              "    <tr>\n",
              "      <th>10</th>\n",
              "      <td>78</td>\n",
              "      <td>Lithuania</td>\n",
              "      <td>Vilnius</td>\n",
              "      <td>Europe</td>\n",
              "      <td>Northern Europe</td>\n",
              "      <td>2872294</td>\n",
              "      <td>[56.0, 24.0]</td>\n",
              "      <td>65300.0</td>\n",
              "      <td>37.6</td>\n",
              "      <td>Euro</td>\n",
              "      <td>[Lithuanian]</td>\n",
              "      <td>[European Union]</td>\n",
              "    </tr>\n",
              "    <tr>\n",
              "      <th>11</th>\n",
              "      <td>79</td>\n",
              "      <td>Luxembourg</td>\n",
              "      <td>Luxembourg</td>\n",
              "      <td>Europe</td>\n",
              "      <td>Western Europe</td>\n",
              "      <td>576200</td>\n",
              "      <td>[49.75, 6.16666666]</td>\n",
              "      <td>2586.0</td>\n",
              "      <td>30.8</td>\n",
              "      <td>Euro</td>\n",
              "      <td>[French, German, Luxembourgish]</td>\n",
              "      <td>[European Union]</td>\n",
              "    </tr>\n",
              "    <tr>\n",
              "      <th>12</th>\n",
              "      <td>90</td>\n",
              "      <td>Montenegro</td>\n",
              "      <td>Podgorica</td>\n",
              "      <td>Europe</td>\n",
              "      <td>Southern Europe</td>\n",
              "      <td>621810</td>\n",
              "      <td>[42.5, 19.3]</td>\n",
              "      <td>13812.0</td>\n",
              "      <td>30.0</td>\n",
              "      <td>Euro</td>\n",
              "      <td>[Serbian, Bosnian, Albanian, Croatian]</td>\n",
              "      <td>[Central European Free Trade Agreement]</td>\n",
              "    </tr>\n",
              "    <tr>\n",
              "      <th>13</th>\n",
              "      <td>95</td>\n",
              "      <td>Netherlands</td>\n",
              "      <td>Amsterdam</td>\n",
              "      <td>Europe</td>\n",
              "      <td>Western Europe</td>\n",
              "      <td>17019800</td>\n",
              "      <td>[52.5, 5.75]</td>\n",
              "      <td>41850.0</td>\n",
              "      <td>30.9</td>\n",
              "      <td>Euro</td>\n",
              "      <td>[Dutch]</td>\n",
              "      <td>[European Union]</td>\n",
              "    </tr>\n",
              "    <tr>\n",
              "      <th>14</th>\n",
              "      <td>108</td>\n",
              "      <td>Portugal</td>\n",
              "      <td>Lisbon</td>\n",
              "      <td>Europe</td>\n",
              "      <td>Southern Europe</td>\n",
              "      <td>10374822</td>\n",
              "      <td>[39.5, -8.0]</td>\n",
              "      <td>92090.0</td>\n",
              "      <td>38.5</td>\n",
              "      <td>Euro</td>\n",
              "      <td>[Portuguese]</td>\n",
              "      <td>[European Union]</td>\n",
              "    </tr>\n",
              "    <tr>\n",
              "      <th>15</th>\n",
              "      <td>120</td>\n",
              "      <td>Slovakia</td>\n",
              "      <td>Bratislava</td>\n",
              "      <td>Europe</td>\n",
              "      <td>Eastern Europe</td>\n",
              "      <td>5426252</td>\n",
              "      <td>[48.66666666, 19.5]</td>\n",
              "      <td>49037.0</td>\n",
              "      <td>26.0</td>\n",
              "      <td>Euro</td>\n",
              "      <td>[Slovak]</td>\n",
              "      <td>[European Union]</td>\n",
              "    </tr>\n",
              "    <tr>\n",
              "      <th>16</th>\n",
              "      <td>121</td>\n",
              "      <td>Slovenia</td>\n",
              "      <td>Ljubljana</td>\n",
              "      <td>Europe</td>\n",
              "      <td>Southern Europe</td>\n",
              "      <td>2064188</td>\n",
              "      <td>[46.11666666, 14.81666666]</td>\n",
              "      <td>20273.0</td>\n",
              "      <td>31.2</td>\n",
              "      <td>Euro</td>\n",
              "      <td>[Slovene]</td>\n",
              "      <td>[European Union]</td>\n",
              "    </tr>\n",
              "    <tr>\n",
              "      <th>17</th>\n",
              "      <td>125</td>\n",
              "      <td>Spain</td>\n",
              "      <td>Madrid</td>\n",
              "      <td>Europe</td>\n",
              "      <td>Southern Europe</td>\n",
              "      <td>46438422</td>\n",
              "      <td>[40.0, -4.0]</td>\n",
              "      <td>505992.0</td>\n",
              "      <td>34.7</td>\n",
              "      <td>Euro</td>\n",
              "      <td>[Spanish]</td>\n",
              "      <td>[European Union]</td>\n",
              "    </tr>\n",
              "  </tbody>\n",
              "</table>\n",
              "</div>"
            ],
            "text/plain": [
              "    index  ...                            regionalBlocs\n",
              "0       7  ...                         [European Union]\n",
              "1      11  ...                         [European Union]\n",
              "2      42  ...                         [European Union]\n",
              "3      45  ...                         [European Union]\n",
              "4      46  ...                         [European Union]\n",
              "5      49  ...                         [European Union]\n",
              "6      51  ...                         [European Union]\n",
              "7      65  ...                         [European Union]\n",
              "8      67  ...                         [European Union]\n",
              "9      75  ...                         [European Union]\n",
              "10     78  ...                         [European Union]\n",
              "11     79  ...                         [European Union]\n",
              "12     90  ...  [Central European Free Trade Agreement]\n",
              "13     95  ...                         [European Union]\n",
              "14    108  ...                         [European Union]\n",
              "15    120  ...                         [European Union]\n",
              "16    121  ...                         [European Union]\n",
              "17    125  ...                         [European Union]\n",
              "\n",
              "[18 rows x 12 columns]"
            ]
          },
          "metadata": {
            "tags": []
          },
          "execution_count": 227
        }
      ]
    },
    {
      "cell_type": "code",
      "metadata": {
        "id": "wwE8_XdhN8o8",
        "outputId": "38f0f7c2-cc04-4571-ccf2-c857c28e1fdb",
        "colab": {
          "base_uri": "https://localhost:8080/"
        }
      },
      "source": [
        "# Display the frequency of the currencies as a percentage\n",
        "# The Euro is the most used as national currency by 11.84 \n",
        "# percent of the countries (listed in the dataset)\n",
        "\n",
        "df[\"currencies\"].value_counts(normalize=True).sort_values(ascending=False)"
      ],
      "execution_count": null,
      "outputs": [
        {
          "output_type": "execute_result",
          "data": {
            "text/plain": [
              "Euro                         0.118421\n",
              "West African CFA franc       0.052632\n",
              "Central African CFA franc    0.032895\n",
              "United States dollar         0.019737\n",
              "Macedonian denar             0.006579\n",
              "                               ...   \n",
              "Guatemalan quetzal           0.006579\n",
              "Venezuelan bolívar           0.006579\n",
              "Turkmenistan manat           0.006579\n",
              "East Caribbean dollar        0.006579\n",
              "Canadian dollar              0.006579\n",
              "Name: currencies, Length: 122, dtype: float64"
            ]
          },
          "metadata": {
            "tags": []
          },
          "execution_count": 326
        }
      ]
    },
    {
      "cell_type": "code",
      "metadata": {
        "id": "pyzJN-v7NkrI",
        "outputId": "060e8f2b-9cad-452f-da6b-6e4c9d119ddb",
        "colab": {
          "base_uri": "https://localhost:8080/",
          "height": 81
        }
      },
      "source": [
        "# Get information about Mexico!\n",
        "\n",
        "df_mexico = df[df[\"name\"] == \"Mexico\"]\n",
        "df_mexico"
      ],
      "execution_count": null,
      "outputs": [
        {
          "output_type": "execute_result",
          "data": {
            "text/html": [
              "<div>\n",
              "<style scoped>\n",
              "    .dataframe tbody tr th:only-of-type {\n",
              "        vertical-align: middle;\n",
              "    }\n",
              "\n",
              "    .dataframe tbody tr th {\n",
              "        vertical-align: top;\n",
              "    }\n",
              "\n",
              "    .dataframe thead th {\n",
              "        text-align: right;\n",
              "    }\n",
              "</style>\n",
              "<table border=\"1\" class=\"dataframe\">\n",
              "  <thead>\n",
              "    <tr style=\"text-align: right;\">\n",
              "      <th></th>\n",
              "      <th>name</th>\n",
              "      <th>capital</th>\n",
              "      <th>region</th>\n",
              "      <th>subregion</th>\n",
              "      <th>population</th>\n",
              "      <th>latlng</th>\n",
              "      <th>area</th>\n",
              "      <th>gini</th>\n",
              "      <th>currencies</th>\n",
              "      <th>languages</th>\n",
              "      <th>regionalBlocs</th>\n",
              "    </tr>\n",
              "  </thead>\n",
              "  <tbody>\n",
              "    <tr>\n",
              "      <th>87</th>\n",
              "      <td>Mexico</td>\n",
              "      <td>Mexico City</td>\n",
              "      <td>Americas</td>\n",
              "      <td>Central America</td>\n",
              "      <td>122273473</td>\n",
              "      <td>[23.0, -102.0]</td>\n",
              "      <td>1964375.0</td>\n",
              "      <td>47.0</td>\n",
              "      <td>Mexican peso</td>\n",
              "      <td>[Spanish]</td>\n",
              "      <td>[Pacific Alliance, North American Free Trade A...</td>\n",
              "    </tr>\n",
              "  </tbody>\n",
              "</table>\n",
              "</div>"
            ],
            "text/plain": [
              "      name  ...                                      regionalBlocs\n",
              "87  Mexico  ...  [Pacific Alliance, North American Free Trade A...\n",
              "\n",
              "[1 rows x 11 columns]"
            ]
          },
          "metadata": {
            "tags": []
          },
          "execution_count": 335
        }
      ]
    },
    {
      "cell_type": "markdown",
      "metadata": {
        "id": "5xn0pWTueI_N"
      },
      "source": [
        "## Interesting groups\n",
        "\n",
        "Groups subsets are created here to be analyzed by:\n",
        "\n",
        "+ population\n",
        "+ gini index"
      ]
    },
    {
      "cell_type": "code",
      "metadata": {
        "id": "H93w_VI2bVnD"
      },
      "source": [
        "region_group = df.groupby(\"region\")\n",
        "subregion_group = df.groupby(\"subregion\")\n",
        "population_group = df.groupby(\"population\")\n",
        "currencies_group = df.groupby(\"currencies\")"
      ],
      "execution_count": null,
      "outputs": []
    },
    {
      "cell_type": "markdown",
      "metadata": {
        "id": "adV5xzCudlS5"
      },
      "source": [
        "### Population statistics"
      ]
    },
    {
      "cell_type": "code",
      "metadata": {
        "id": "yHaM9vB5doQD",
        "outputId": "fcce2b47-ad9a-445c-ae63-3e8007a4318e",
        "colab": {
          "base_uri": "https://localhost:8080/"
        }
      },
      "source": [
        "# Average population per region\n",
        "\n",
        "region_group[\"population\"].mean().sort_values(ascending=True)"
      ],
      "execution_count": null,
      "outputs": [
        {
          "output_type": "execute_result",
          "data": {
            "text/plain": [
              "region\n",
              "Oceania     9.441478e+06\n",
              "Europe      2.007562e+07\n",
              "Africa      2.299282e+07\n",
              "Americas    3.602774e+07\n",
              "Asia        1.111107e+08\n",
              "Name: population, dtype: float64"
            ]
          },
          "metadata": {
            "tags": []
          },
          "execution_count": 358
        }
      ]
    },
    {
      "cell_type": "code",
      "metadata": {
        "id": "SPLyOEoweneP",
        "outputId": "bb9b85ab-c578-4660-f9fa-5653bd92d05d",
        "colab": {
          "base_uri": "https://localhost:8080/"
        }
      },
      "source": [
        "# Average population per subregion\n",
        "# In average, Eastern Asia is the most populated region of Asia\n",
        "# In America, the most populated subregion in average is Northern America\n",
        "\n",
        "subregion_group[\"population\"].mean().sort_values(ascending=False)"
      ],
      "execution_count": null,
      "outputs": [
        {
          "output_type": "execute_result",
          "data": {
            "text/plain": [
              "subregion\n",
              "Eastern Asia                 3.131202e+08\n",
              "Southern Asia                2.008762e+08\n",
              "Northern America             1.800512e+08\n",
              "South-Eastern Asia           6.447099e+07\n",
              "Northern Africa              4.315613e+07\n",
              "South America                3.486248e+07\n",
              "Eastern Europe               2.936036e+07\n",
              "Western Europe               2.778056e+07\n",
              "Eastern Africa               2.565868e+07\n",
              "Western Africa               2.388305e+07\n",
              "Central America              2.111061e+07\n",
              "Western Asia                 1.997586e+07\n",
              "Australia and New Zealand    1.440761e+07\n",
              "Central Asia                 1.374442e+07\n",
              "Southern Europe              1.370596e+07\n",
              "Southern Africa              1.262922e+07\n",
              "Northern Europe              1.155165e+07\n",
              "Middle Africa                1.086682e+07\n",
              "Caribbean                    5.082398e+06\n",
              "Melanesia                    4.475350e+06\n",
              "Name: population, dtype: float64"
            ]
          },
          "metadata": {
            "tags": []
          },
          "execution_count": 371
        }
      ]
    },
    {
      "cell_type": "code",
      "metadata": {
        "id": "6TY2kbsJfIrl",
        "outputId": "e11c824a-7a46-47fe-d324-929b84feb901",
        "colab": {
          "base_uri": "https://localhost:8080/"
        }
      },
      "source": [
        "# Here's the average population for currencies\n",
        "\n",
        "currencies_group[\"population\"].mean().sort_values(ascending=False).head()"
      ],
      "execution_count": null,
      "outputs": [
        {
          "output_type": "execute_result",
          "data": {
            "text/plain": [
              "currencies\n",
              "Chinese yuan         1.377422e+09\n",
              "Indian rupee         1.295210e+09\n",
              "Indonesian rupiah    2.587050e+08\n",
              "Brazilian real       2.061359e+08\n",
              "Pakistani rupee      1.941251e+08\n",
              "Name: population, dtype: float64"
            ]
          },
          "metadata": {
            "tags": []
          },
          "execution_count": 370
        }
      ]
    },
    {
      "cell_type": "markdown",
      "metadata": {
        "id": "ll-iLpepblRM"
      },
      "source": [
        "### Gini index statistics"
      ]
    },
    {
      "cell_type": "code",
      "metadata": {
        "id": "AOn_cIIGbt_-",
        "outputId": "77ea7efa-409c-47f3-f776-a7948c712987",
        "colab": {
          "base_uri": "https://localhost:8080/"
        }
      },
      "source": [
        "# By region, in average Europe has the best gini index\n",
        "\n",
        "region_group[\"gini\"].mean().sort_values(ascending=False)"
      ],
      "execution_count": null,
      "outputs": [
        {
          "output_type": "execute_result",
          "data": {
            "text/plain": [
              "region\n",
              "Americas    48.703704\n",
              "Africa      44.580435\n",
              "Oceania     40.100000\n",
              "Asia        37.060526\n",
              "Europe      31.816216\n",
              "Name: gini, dtype: float64"
            ]
          },
          "metadata": {
            "tags": []
          },
          "execution_count": 344
        }
      ]
    },
    {
      "cell_type": "code",
      "metadata": {
        "id": "5xGL0JH3bqRy",
        "outputId": "354f4f95-72a3-476f-db70-da289fc4c33c",
        "colab": {
          "base_uri": "https://localhost:8080/"
        }
      },
      "source": [
        "# By population, in average the best gini index is in a population\n",
        "# of 5717014 persons\n",
        "\n",
        "population_group[\"gini\"].mean().sort_values(ascending=False).tail()"
      ],
      "execution_count": null,
      "outputs": [
        {
          "output_type": "execute_result",
          "data": {
            "text/plain": [
              "population\n",
              "8725931     26.0\n",
              "10558524    26.0\n",
              "5223256     25.8\n",
              "9894888     25.0\n",
              "5717014     24.0\n",
              "Name: gini, dtype: float64"
            ]
          },
          "metadata": {
            "tags": []
          },
          "execution_count": 351
        }
      ]
    },
    {
      "cell_type": "code",
      "metadata": {
        "id": "-lb761JjcXSd",
        "outputId": "9ab87463-067c-4f0e-979a-8f2dd8b06529",
        "colab": {
          "base_uri": "https://localhost:8080/"
        }
      },
      "source": [
        "# By currency, the best gini index is hold by the Europeans countries\n",
        "# that uses Euro \n",
        "\n",
        "currencies_group[\"gini\"].mean().sort_values(ascending=False).tail()"
      ],
      "execution_count": null,
      "outputs": [
        {
          "output_type": "execute_result",
          "data": {
            "text/plain": [
              "currencies\n",
              "Ukrainian hryvnia    26.4\n",
              "Czech koruna         26.0\n",
              "Norwegian krone      25.8\n",
              "Swedish krona        25.0\n",
              "Danish krone         24.0\n",
              "Name: gini, dtype: float64"
            ]
          },
          "metadata": {
            "tags": []
          },
          "execution_count": 353
        }
      ]
    },
    {
      "cell_type": "markdown",
      "metadata": {
        "id": "8LjQ9WDFIyMP"
      },
      "source": [
        "## Plotting\n",
        "\n",
        "Since all the countries are listed, to display some plots I'm only using a subset of them to make it visually clear."
      ]
    },
    {
      "cell_type": "code",
      "metadata": {
        "id": "rLHZu0e-bBgn"
      },
      "source": [
        "height = 8\n",
        "aspect = 1.5"
      ],
      "execution_count": null,
      "outputs": []
    },
    {
      "cell_type": "code",
      "metadata": {
        "id": "v8LTh9euDA3F",
        "outputId": "5baa80d8-4031-4bf3-c825-0b894bffa514",
        "colab": {
          "base_uri": "https://localhost:8080/",
          "height": 598
        }
      },
      "source": [
        "# Let's plot the population in countries that begins with letter C\n",
        "\n",
        "sns.displot(data=df.loc[df[\"name\"].str.startswith(\"M\", na=False)], \n",
        "            x=\"population\", hue=\"name\", multiple=\"stack\", \n",
        "            height=height, aspect=aspect)"
      ],
      "execution_count": null,
      "outputs": [
        {
          "output_type": "execute_result",
          "data": {
            "text/plain": [
              "<seaborn.axisgrid.FacetGrid at 0x7fb40f33f6a0>"
            ]
          },
          "metadata": {
            "tags": []
          },
          "execution_count": 205
        },
        {
          "output_type": "display_data",
          "data": {
            "image/png": "[encoded data removed]",
            "text/plain": [
              "<Figure size 1151.47x576 with 1 Axes>"
            ]
          },
          "metadata": {
            "tags": []
          }
        }
      ]
    },
    {
      "cell_type": "code",
      "metadata": {
        "id": "x8ss6dJIMSpr",
        "outputId": "b9aa5fb5-f96d-43ac-fc8b-da3bca390c5a",
        "colab": {
          "base_uri": "https://localhost:8080/",
          "height": 598
        }
      },
      "source": [
        "# Plot the area of the countries starting with M\n",
        "\n",
        "sns.displot(data=df[df[\"name\"].str.startswith(\"M\", na=False)], x=\"area\", \n",
        "            hue=\"name\", multiple=\"stack\", height=8, aspect=aspect)"
      ],
      "execution_count": null,
      "outputs": [
        {
          "output_type": "execute_result",
          "data": {
            "text/plain": [
              "<seaborn.axisgrid.FacetGrid at 0x7fb4058ce4a8>"
            ]
          },
          "metadata": {
            "tags": []
          },
          "execution_count": 206
        },
        {
          "output_type": "display_data",
          "data": {
            "image/png": "[encoded data removed]",
            "text/plain": [
              "<Figure size 1151.47x576 with 1 Axes>"
            ]
          },
          "metadata": {
            "tags": []
          }
        }
      ]
    },
    {
      "cell_type": "code",
      "metadata": {
        "id": "6kOeOAl2jC2Y",
        "outputId": "ce0121bb-1056-43fe-97ea-ff3998694227",
        "colab": {
          "base_uri": "https://localhost:8080/",
          "height": 598
        }
      },
      "source": [
        "# Plot the frequency distribution of the currencies\n",
        "\n",
        "sns.displot(data=df, x=\"currencies\", height=height, aspect=aspect, \n",
        "            multiple=\"stack\")"
      ],
      "execution_count": null,
      "outputs": [
        {
          "output_type": "execute_result",
          "data": {
            "text/plain": [
              "<seaborn.axisgrid.FacetGrid at 0x7fb405f00710>"
            ]
          },
          "metadata": {
            "tags": []
          },
          "execution_count": 207
        },
        {
          "output_type": "display_data",
          "data": {
            "image/png": "[encoded data removed]",
            "text/plain": [
              "<Figure size 864x576 with 1 Axes>"
            ]
          },
          "metadata": {
            "tags": []
          }
        }
      ]
    },
    {
      "cell_type": "code",
      "metadata": {
        "id": "duixZ-JSZquu",
        "outputId": "470ff950-ae2a-4636-a6cc-7f89075a4efe",
        "colab": {
          "base_uri": "https://localhost:8080/",
          "height": 602
        }
      },
      "source": [
        "# Plot the relationship between population and area\n",
        "# Most of the population are centered in smaller areas\n",
        "\n",
        "sns.relplot(data=df, x=\"area\", y=\"population\", height=height, aspect=aspect)"
      ],
      "execution_count": null,
      "outputs": [
        {
          "output_type": "execute_result",
          "data": {
            "text/plain": [
              "<seaborn.axisgrid.FacetGrid at 0x7fb41102f978>"
            ]
          },
          "metadata": {
            "tags": []
          },
          "execution_count": 208
        },
        {
          "output_type": "display_data",
          "data": {
            "image/png": "[encoded data removed]",
            "text/plain": [
              "<Figure size 864x576 with 1 Axes>"
            ]
          },
          "metadata": {
            "tags": []
          }
        }
      ]
    },
    {
      "cell_type": "code",
      "metadata": {
        "id": "B_jZ_iA1hlyQ",
        "outputId": "9b1644b2-f064-4096-f994-e6dde918fd86",
        "colab": {
          "base_uri": "https://localhost:8080/",
          "height": 602
        }
      },
      "source": [
        "# Relationship between gini index and population\n",
        "# Theres no correlation between the index and population\n",
        "# since in smaller populations there are both high and low\n",
        "# gini index values\n",
        "\n",
        "sns.relplot(data=df, x=\"population\", y=\"gini\", height=height, aspect=aspect)"
      ],
      "execution_count": null,
      "outputs": [
        {
          "output_type": "execute_result",
          "data": {
            "text/plain": [
              "<seaborn.axisgrid.FacetGrid at 0x7fb408e12d30>"
            ]
          },
          "metadata": {
            "tags": []
          },
          "execution_count": 171
        },
        {
          "output_type": "display_data",
          "data": {
            "image/png": "[encoded data removed]",
            "text/plain": [
              "<Figure size 864x576 with 1 Axes>"
            ]
          },
          "metadata": {
            "tags": []
          }
        }
      ]
    },
    {
      "cell_type": "code",
      "metadata": {
        "id": "vaXR2hJqi7za",
        "outputId": "e5bfe37a-b176-4dd6-af52-f3714e50f6a6",
        "colab": {
          "base_uri": "https://localhost:8080/",
          "height": 602
        }
      },
      "source": [
        "sns.relplot(data=df, x=\"area\", y=\"gini\", height=height, aspect=aspect)"
      ],
      "execution_count": null,
      "outputs": [
        {
          "output_type": "execute_result",
          "data": {
            "text/plain": [
              "<seaborn.axisgrid.FacetGrid at 0x7fb404efbe80>"
            ]
          },
          "metadata": {
            "tags": []
          },
          "execution_count": 213
        },
        {
          "output_type": "display_data",
          "data": {
            "image/png": "[encoded data removed]",
            "text/plain": [
              "<Figure size 864x576 with 1 Axes>"
            ]
          },
          "metadata": {
            "tags": []
          }
        }
      ]
    },
    {
      "cell_type": "code",
      "metadata": {
        "id": "G319WV5AEjeW",
        "outputId": "4b2a05a6-ec3c-418a-fb94-73faa7f634a1",
        "colab": {
          "base_uri": "https://localhost:8080/"
        }
      },
      "source": [
        "currencies_group = df.groupby(\"currencies\")\n",
        "currencies_group[\"population\"].value_counts().head(10)"
      ],
      "execution_count": null,
      "outputs": [
        {
          "output_type": "execute_result",
          "data": {
            "text/plain": [
              "currencies         population\n",
              "Afghan afghani     27657145      1\n",
              "Albanian lek       2886026       1\n",
              "Algerian dinar     40400000      1\n",
              "Angolan kwanza     25868000      1\n",
              "Argentine peso     43590400      1\n",
              "Armenian dram      2994400       1\n",
              "Australian dollar  24117360      1\n",
              "Azerbaijani manat  9730500       1\n",
              "Bangladeshi taka   161006790     1\n",
              "Belize dollar      370300        1\n",
              "Name: population, dtype: int64"
            ]
          },
          "metadata": {
            "tags": []
          },
          "execution_count": 268
        }
      ]
    },
    {
      "cell_type": "code",
      "metadata": {
        "id": "64CF1eBfUqEa",
        "outputId": "9e7cd2d4-bfb5-40ef-e061-47181ee90f1a",
        "colab": {
          "base_uri": "https://localhost:8080/",
          "height": 614
        }
      },
      "source": [
        "currencies_group.get_group(\"Euro\")"
      ],
      "execution_count": null,
      "outputs": [
        {
          "output_type": "execute_result",
          "data": {
            "text/html": [
              "<div>\n",
              "<style scoped>\n",
              "    .dataframe tbody tr th:only-of-type {\n",
              "        vertical-align: middle;\n",
              "    }\n",
              "\n",
              "    .dataframe tbody tr th {\n",
              "        vertical-align: top;\n",
              "    }\n",
              "\n",
              "    .dataframe thead th {\n",
              "        text-align: right;\n",
              "    }\n",
              "</style>\n",
              "<table border=\"1\" class=\"dataframe\">\n",
              "  <thead>\n",
              "    <tr style=\"text-align: right;\">\n",
              "      <th></th>\n",
              "      <th>name</th>\n",
              "      <th>capital</th>\n",
              "      <th>region</th>\n",
              "      <th>subregion</th>\n",
              "      <th>population</th>\n",
              "      <th>latlng</th>\n",
              "      <th>area</th>\n",
              "      <th>gini</th>\n",
              "      <th>currencies</th>\n",
              "      <th>languages</th>\n",
              "      <th>regionalBlocs</th>\n",
              "    </tr>\n",
              "  </thead>\n",
              "  <tbody>\n",
              "    <tr>\n",
              "      <th>7</th>\n",
              "      <td>Austria</td>\n",
              "      <td>Vienna</td>\n",
              "      <td>Europe</td>\n",
              "      <td>Western Europe</td>\n",
              "      <td>8725931</td>\n",
              "      <td>[47.33333333, 13.33333333]</td>\n",
              "      <td>83871.0</td>\n",
              "      <td>26.0</td>\n",
              "      <td>Euro</td>\n",
              "      <td>[German]</td>\n",
              "      <td>[European Union]</td>\n",
              "    </tr>\n",
              "    <tr>\n",
              "      <th>11</th>\n",
              "      <td>Belgium</td>\n",
              "      <td>Brussels</td>\n",
              "      <td>Europe</td>\n",
              "      <td>Western Europe</td>\n",
              "      <td>11319511</td>\n",
              "      <td>[50.83333333, 4.0]</td>\n",
              "      <td>30528.0</td>\n",
              "      <td>33.0</td>\n",
              "      <td>Euro</td>\n",
              "      <td>[Dutch, French, German]</td>\n",
              "      <td>[European Union]</td>\n",
              "    </tr>\n",
              "    <tr>\n",
              "      <th>42</th>\n",
              "      <td>Estonia</td>\n",
              "      <td>Tallinn</td>\n",
              "      <td>Europe</td>\n",
              "      <td>Northern Europe</td>\n",
              "      <td>1315944</td>\n",
              "      <td>[59.0, 26.0]</td>\n",
              "      <td>45227.0</td>\n",
              "      <td>36.0</td>\n",
              "      <td>Euro</td>\n",
              "      <td>[Estonian]</td>\n",
              "      <td>[European Union]</td>\n",
              "    </tr>\n",
              "    <tr>\n",
              "      <th>45</th>\n",
              "      <td>Finland</td>\n",
              "      <td>Helsinki</td>\n",
              "      <td>Europe</td>\n",
              "      <td>Northern Europe</td>\n",
              "      <td>5491817</td>\n",
              "      <td>[64.0, 26.0]</td>\n",
              "      <td>338424.0</td>\n",
              "      <td>26.9</td>\n",
              "      <td>Euro</td>\n",
              "      <td>[Finnish, Swedish]</td>\n",
              "      <td>[European Union]</td>\n",
              "    </tr>\n",
              "    <tr>\n",
              "      <th>46</th>\n",
              "      <td>France</td>\n",
              "      <td>Paris</td>\n",
              "      <td>Europe</td>\n",
              "      <td>Western Europe</td>\n",
              "      <td>66710000</td>\n",
              "      <td>[46.0, 2.0]</td>\n",
              "      <td>640679.0</td>\n",
              "      <td>32.7</td>\n",
              "      <td>Euro</td>\n",
              "      <td>[French]</td>\n",
              "      <td>[European Union]</td>\n",
              "    </tr>\n",
              "    <tr>\n",
              "      <th>49</th>\n",
              "      <td>Germany</td>\n",
              "      <td>Berlin</td>\n",
              "      <td>Europe</td>\n",
              "      <td>Western Europe</td>\n",
              "      <td>81770900</td>\n",
              "      <td>[51.0, 9.0]</td>\n",
              "      <td>357114.0</td>\n",
              "      <td>28.3</td>\n",
              "      <td>Euro</td>\n",
              "      <td>[German]</td>\n",
              "      <td>[European Union]</td>\n",
              "    </tr>\n",
              "    <tr>\n",
              "      <th>51</th>\n",
              "      <td>Greece</td>\n",
              "      <td>Athens</td>\n",
              "      <td>Europe</td>\n",
              "      <td>Southern Europe</td>\n",
              "      <td>10858018</td>\n",
              "      <td>[39.0, 22.0]</td>\n",
              "      <td>131990.0</td>\n",
              "      <td>34.3</td>\n",
              "      <td>Euro</td>\n",
              "      <td>[Greek (modern)]</td>\n",
              "      <td>[European Union]</td>\n",
              "    </tr>\n",
              "    <tr>\n",
              "      <th>65</th>\n",
              "      <td>Ireland</td>\n",
              "      <td>Dublin</td>\n",
              "      <td>Europe</td>\n",
              "      <td>Northern Europe</td>\n",
              "      <td>6378000</td>\n",
              "      <td>[53.0, -8.0]</td>\n",
              "      <td>70273.0</td>\n",
              "      <td>34.3</td>\n",
              "      <td>Euro</td>\n",
              "      <td>[Irish, English]</td>\n",
              "      <td>[European Union]</td>\n",
              "    </tr>\n",
              "    <tr>\n",
              "      <th>67</th>\n",
              "      <td>Italy</td>\n",
              "      <td>Rome</td>\n",
              "      <td>Europe</td>\n",
              "      <td>Southern Europe</td>\n",
              "      <td>60665551</td>\n",
              "      <td>[42.83333333, 12.83333333]</td>\n",
              "      <td>301336.0</td>\n",
              "      <td>36.0</td>\n",
              "      <td>Euro</td>\n",
              "      <td>[Italian]</td>\n",
              "      <td>[European Union]</td>\n",
              "    </tr>\n",
              "    <tr>\n",
              "      <th>75</th>\n",
              "      <td>Latvia</td>\n",
              "      <td>Riga</td>\n",
              "      <td>Europe</td>\n",
              "      <td>Northern Europe</td>\n",
              "      <td>1961600</td>\n",
              "      <td>[57.0, 25.0]</td>\n",
              "      <td>64559.0</td>\n",
              "      <td>36.6</td>\n",
              "      <td>Euro</td>\n",
              "      <td>[Latvian]</td>\n",
              "      <td>[European Union]</td>\n",
              "    </tr>\n",
              "    <tr>\n",
              "      <th>78</th>\n",
              "      <td>Lithuania</td>\n",
              "      <td>Vilnius</td>\n",
              "      <td>Europe</td>\n",
              "      <td>Northern Europe</td>\n",
              "      <td>2872294</td>\n",
              "      <td>[56.0, 24.0]</td>\n",
              "      <td>65300.0</td>\n",
              "      <td>37.6</td>\n",
              "      <td>Euro</td>\n",
              "      <td>[Lithuanian]</td>\n",
              "      <td>[European Union]</td>\n",
              "    </tr>\n",
              "    <tr>\n",
              "      <th>79</th>\n",
              "      <td>Luxembourg</td>\n",
              "      <td>Luxembourg</td>\n",
              "      <td>Europe</td>\n",
              "      <td>Western Europe</td>\n",
              "      <td>576200</td>\n",
              "      <td>[49.75, 6.16666666]</td>\n",
              "      <td>2586.0</td>\n",
              "      <td>30.8</td>\n",
              "      <td>Euro</td>\n",
              "      <td>[French, German, Luxembourgish]</td>\n",
              "      <td>[European Union]</td>\n",
              "    </tr>\n",
              "    <tr>\n",
              "      <th>90</th>\n",
              "      <td>Montenegro</td>\n",
              "      <td>Podgorica</td>\n",
              "      <td>Europe</td>\n",
              "      <td>Southern Europe</td>\n",
              "      <td>621810</td>\n",
              "      <td>[42.5, 19.3]</td>\n",
              "      <td>13812.0</td>\n",
              "      <td>30.0</td>\n",
              "      <td>Euro</td>\n",
              "      <td>[Serbian, Bosnian, Albanian, Croatian]</td>\n",
              "      <td>[Central European Free Trade Agreement]</td>\n",
              "    </tr>\n",
              "    <tr>\n",
              "      <th>95</th>\n",
              "      <td>Netherlands</td>\n",
              "      <td>Amsterdam</td>\n",
              "      <td>Europe</td>\n",
              "      <td>Western Europe</td>\n",
              "      <td>17019800</td>\n",
              "      <td>[52.5, 5.75]</td>\n",
              "      <td>41850.0</td>\n",
              "      <td>30.9</td>\n",
              "      <td>Euro</td>\n",
              "      <td>[Dutch]</td>\n",
              "      <td>[European Union]</td>\n",
              "    </tr>\n",
              "    <tr>\n",
              "      <th>108</th>\n",
              "      <td>Portugal</td>\n",
              "      <td>Lisbon</td>\n",
              "      <td>Europe</td>\n",
              "      <td>Southern Europe</td>\n",
              "      <td>10374822</td>\n",
              "      <td>[39.5, -8.0]</td>\n",
              "      <td>92090.0</td>\n",
              "      <td>38.5</td>\n",
              "      <td>Euro</td>\n",
              "      <td>[Portuguese]</td>\n",
              "      <td>[European Union]</td>\n",
              "    </tr>\n",
              "    <tr>\n",
              "      <th>120</th>\n",
              "      <td>Slovakia</td>\n",
              "      <td>Bratislava</td>\n",
              "      <td>Europe</td>\n",
              "      <td>Eastern Europe</td>\n",
              "      <td>5426252</td>\n",
              "      <td>[48.66666666, 19.5]</td>\n",
              "      <td>49037.0</td>\n",
              "      <td>26.0</td>\n",
              "      <td>Euro</td>\n",
              "      <td>[Slovak]</td>\n",
              "      <td>[European Union]</td>\n",
              "    </tr>\n",
              "    <tr>\n",
              "      <th>121</th>\n",
              "      <td>Slovenia</td>\n",
              "      <td>Ljubljana</td>\n",
              "      <td>Europe</td>\n",
              "      <td>Southern Europe</td>\n",
              "      <td>2064188</td>\n",
              "      <td>[46.11666666, 14.81666666]</td>\n",
              "      <td>20273.0</td>\n",
              "      <td>31.2</td>\n",
              "      <td>Euro</td>\n",
              "      <td>[Slovene]</td>\n",
              "      <td>[European Union]</td>\n",
              "    </tr>\n",
              "    <tr>\n",
              "      <th>125</th>\n",
              "      <td>Spain</td>\n",
              "      <td>Madrid</td>\n",
              "      <td>Europe</td>\n",
              "      <td>Southern Europe</td>\n",
              "      <td>46438422</td>\n",
              "      <td>[40.0, -4.0]</td>\n",
              "      <td>505992.0</td>\n",
              "      <td>34.7</td>\n",
              "      <td>Euro</td>\n",
              "      <td>[Spanish]</td>\n",
              "      <td>[European Union]</td>\n",
              "    </tr>\n",
              "  </tbody>\n",
              "</table>\n",
              "</div>"
            ],
            "text/plain": [
              "            name  ...                            regionalBlocs\n",
              "7        Austria  ...                         [European Union]\n",
              "11       Belgium  ...                         [European Union]\n",
              "42       Estonia  ...                         [European Union]\n",
              "45       Finland  ...                         [European Union]\n",
              "46        France  ...                         [European Union]\n",
              "49       Germany  ...                         [European Union]\n",
              "51        Greece  ...                         [European Union]\n",
              "65       Ireland  ...                         [European Union]\n",
              "67         Italy  ...                         [European Union]\n",
              "75        Latvia  ...                         [European Union]\n",
              "78     Lithuania  ...                         [European Union]\n",
              "79    Luxembourg  ...                         [European Union]\n",
              "90    Montenegro  ...  [Central European Free Trade Agreement]\n",
              "95   Netherlands  ...                         [European Union]\n",
              "108     Portugal  ...                         [European Union]\n",
              "120     Slovakia  ...                         [European Union]\n",
              "121     Slovenia  ...                         [European Union]\n",
              "125        Spain  ...                         [European Union]\n",
              "\n",
              "[18 rows x 11 columns]"
            ]
          },
          "metadata": {
            "tags": []
          },
          "execution_count": 270
        }
      ]
    },
    {
      "cell_type": "code",
      "metadata": {
        "id": "61b7FJx6V8HN",
        "outputId": "2c378f42-f0b0-4629-9fcb-3bcb9629bfac",
        "colab": {
          "base_uri": "https://localhost:8080/"
        }
      },
      "source": [
        "# Get gini index by each region\n",
        "\n",
        "region_group = df.groupby(\"region\")\n",
        "region_group[\"population\"].value_counts().loc[\"Africa\"]\n",
        "# region_group.get_group(\"Africa\")"
      ],
      "execution_count": null,
      "outputs": [
        {
          "output_type": "execute_result",
          "data": {
            "text/plain": [
              "population\n",
              "91400        1\n",
              "187356       1\n",
              "531239       1\n",
              "806153       1\n",
              "900000       1\n",
              "1132657      1\n",
              "1547777      1\n",
              "1802278      1\n",
              "1894194      1\n",
              "2141206      1\n",
              "2324388      1\n",
              "3718678      1\n",
              "4615000      1\n",
              "4741000      1\n",
              "4998000      1\n",
              "7075641      1\n",
              "7143000      1\n",
              "10114505     1\n",
              "10653654     1\n",
              "11154400     1\n",
              "11553188     1\n",
              "12131000     1\n",
              "12947000     1\n",
              "14497000     1\n",
              "14799859     1\n",
              "15933883     1\n",
              "16832910     1\n",
              "18135000     1\n",
              "19034397     1\n",
              "20715000     1\n",
              "22434363     1\n",
              "22671331     1\n",
              "22709892     1\n",
              "25868000     1\n",
              "26423700     1\n",
              "27670174     1\n",
              "33337529     1\n",
              "33860700     1\n",
              "39598700     1\n",
              "40400000     1\n",
              "47251000     1\n",
              "55155000     1\n",
              "55653654     1\n",
              "91290000     1\n",
              "92206005     1\n",
              "186988000    1\n",
              "Name: population, dtype: int64"
            ]
          },
          "metadata": {
            "tags": []
          },
          "execution_count": 315
        }
      ]
    },
    {
      "cell_type": "code",
      "metadata": {
        "id": "V3_n9SBjUQrr",
        "outputId": "52a1bb4b-361b-4299-fbfd-7e4285e4c605",
        "colab": {
          "base_uri": "https://localhost:8080/"
        }
      },
      "source": [
        "currencies_group[\"population\"].value_counts()"
      ],
      "execution_count": null,
      "outputs": [
        {
          "output_type": "execute_result",
          "data": {
            "text/plain": [
              "currencies              population\n",
              "Afghan afghani          27657145      1\n",
              "Albanian lek            2886026       1\n",
              "Algerian dinar          40400000      1\n",
              "Angolan kwanza          25868000      1\n",
              "Argentine peso          43590400      1\n",
              "                                     ..\n",
              "West African CFA franc  19034397      1\n",
              "                        20715000      1\n",
              "                        22671331      1\n",
              "Yemeni rial             27478000      1\n",
              "Zambian kwacha          15933883      1\n",
              "Name: population, Length: 152, dtype: int64"
            ]
          },
          "metadata": {
            "tags": []
          },
          "execution_count": 301
        }
      ]
    },
    {
      "cell_type": "code",
      "metadata": {
        "id": "pyLrfQQgS9wq",
        "outputId": "01fdee24-4543-478b-b762-da4dded117b5",
        "colab": {
          "base_uri": "https://localhost:8080/",
          "height": 143
        }
      },
      "source": [
        "filter = df[\"currencies\"] == \"United States dollar\"\n",
        "df.loc[filter]"
      ],
      "execution_count": null,
      "outputs": [
        {
          "output_type": "execute_result",
          "data": {
            "text/html": [
              "<div>\n",
              "<style scoped>\n",
              "    .dataframe tbody tr th:only-of-type {\n",
              "        vertical-align: middle;\n",
              "    }\n",
              "\n",
              "    .dataframe tbody tr th {\n",
              "        vertical-align: top;\n",
              "    }\n",
              "\n",
              "    .dataframe thead th {\n",
              "        text-align: right;\n",
              "    }\n",
              "</style>\n",
              "<table border=\"1\" class=\"dataframe\">\n",
              "  <thead>\n",
              "    <tr style=\"text-align: right;\">\n",
              "      <th></th>\n",
              "      <th>name</th>\n",
              "      <th>capital</th>\n",
              "      <th>region</th>\n",
              "      <th>subregion</th>\n",
              "      <th>population</th>\n",
              "      <th>latlng</th>\n",
              "      <th>area</th>\n",
              "      <th>gini</th>\n",
              "      <th>currencies</th>\n",
              "      <th>languages</th>\n",
              "      <th>regionalBlocs</th>\n",
              "    </tr>\n",
              "  </thead>\n",
              "  <tbody>\n",
              "    <tr>\n",
              "      <th>39</th>\n",
              "      <td>Ecuador</td>\n",
              "      <td>Quito</td>\n",
              "      <td>Americas</td>\n",
              "      <td>South America</td>\n",
              "      <td>16545799</td>\n",
              "      <td>[-2.0, -77.5]</td>\n",
              "      <td>276841.0</td>\n",
              "      <td>49.3</td>\n",
              "      <td>United States dollar</td>\n",
              "      <td>[Spanish]</td>\n",
              "      <td>[Union of South American Nations]</td>\n",
              "    </tr>\n",
              "    <tr>\n",
              "      <th>41</th>\n",
              "      <td>El Salvador</td>\n",
              "      <td>San Salvador</td>\n",
              "      <td>Americas</td>\n",
              "      <td>Central America</td>\n",
              "      <td>6520675</td>\n",
              "      <td>[13.83333333, -88.91666666]</td>\n",
              "      <td>21041.0</td>\n",
              "      <td>48.3</td>\n",
              "      <td>United States dollar</td>\n",
              "      <td>[Spanish]</td>\n",
              "      <td>[Central American Integration System]</td>\n",
              "    </tr>\n",
              "    <tr>\n",
              "      <th>145</th>\n",
              "      <td>United States of America</td>\n",
              "      <td>Washington, D.C.</td>\n",
              "      <td>Americas</td>\n",
              "      <td>Northern America</td>\n",
              "      <td>323947000</td>\n",
              "      <td>[38.0, -97.0]</td>\n",
              "      <td>9629091.0</td>\n",
              "      <td>48.0</td>\n",
              "      <td>United States dollar</td>\n",
              "      <td>[English]</td>\n",
              "      <td>[North American Free Trade Agreement]</td>\n",
              "    </tr>\n",
              "  </tbody>\n",
              "</table>\n",
              "</div>"
            ],
            "text/plain": [
              "                         name  ...                          regionalBlocs\n",
              "39                    Ecuador  ...      [Union of South American Nations]\n",
              "41                El Salvador  ...  [Central American Integration System]\n",
              "145  United States of America  ...  [North American Free Trade Agreement]\n",
              "\n",
              "[3 rows x 11 columns]"
            ]
          },
          "metadata": {
            "tags": []
          },
          "execution_count": 258
        }
      ]
    }
  ]
}